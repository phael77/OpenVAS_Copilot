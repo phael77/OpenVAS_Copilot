{
 "cells": [
  {
   "cell_type": "code",
   "execution_count": 42,
   "metadata": {},
   "outputs": [],
   "source": [
    "import os\n",
    "from dotenv import load_dotenv\n",
    "from langchain_openai import ChatOpenAI"
   ]
  },
  {
   "cell_type": "code",
   "execution_count": 43,
   "metadata": {},
   "outputs": [
    {
     "name": "stdout",
     "output_type": "stream",
     "text": [
      "API key loaded successfully.\n"
     ]
    }
   ],
   "source": [
    "import os\n",
    "from dotenv import load_dotenv\n",
    "\n",
    "# Carregar variáveis de ambiente do arquivo .env\n",
    "load_dotenv()\n",
    "\n",
    "api_key = os.getenv('OPENAI_API_KEY')\n",
    "\n",
    "if api_key is None:\n",
    "    raise ValueError(\"API key not found. Please set the OPENAI_API_KEY environment variable.\")\n",
    "else:\n",
    "    print(\"API key loaded successfully.\")"
   ]
  },
  {
   "cell_type": "code",
   "execution_count": 44,
   "metadata": {},
   "outputs": [
    {
     "name": "stdout",
     "output_type": "stream",
     "text": [
      "True\n"
     ]
    }
   ],
   "source": [
    "api_key = os.getenv('OPENAI_API_KEY')\n",
    "\n",
    "print(api_key is not None)"
   ]
  },
  {
   "cell_type": "code",
   "execution_count": 45,
   "metadata": {},
   "outputs": [],
   "source": [
    "chat = ChatOpenAI(\n",
    "    model=\"gpt-4o-mini\",\n",
    "    max_tokens=10000,\n",
    ")"
   ]
  },
  {
   "cell_type": "code",
   "execution_count": 46,
   "metadata": {},
   "outputs": [],
   "source": [
    "from langchain.schema import SystemMessage, HumanMessage, AIMessage\n",
    "\n",
    "messages = [\n",
    "    SystemMessage(content=\"Você é um assistente especializado em segurança cibernética, com foco em análises do OpenVAS. \"\n",
    "                          \"Sua função é ajudar a interpretar relatórios, identificar vulnerabilidades e recomendar ações de mitigação.\"),\n",
    "    HumanMessage(content=\"Quais são as vulnerabilidades críticas mais comuns encontradas nos relatórios do OpenVAS?\"),\n",
    "    AIMessage(content=\"As vulnerabilidades críticas mais comuns incluem falta de patches em sistemas, autenticação fraca, \"\n",
    "                      \"exposição de serviços desnecessários, e uso de softwares desatualizados. Você pode mitigá-las \"\n",
    "                      \"mantendo os sistemas atualizados, implementando autenticação forte e desativando serviços desnecessários.\"),\n",
    "    HumanMessage(content=\"Como posso priorizar as ações de mitigação?\"),\n",
    "]"
   ]
  },
  {
   "cell_type": "code",
   "execution_count": 47,
   "metadata": {},
   "outputs": [],
   "source": [
    "res = chat.invoke(messages)"
   ]
  },
  {
   "cell_type": "code",
   "execution_count": 48,
   "metadata": {},
   "outputs": [
    {
     "data": {
      "text/plain": [
       "AIMessage(content='Priorizar ações de mitigação pode ser feito seguindo algumas diretrizes:\\n\\n1. **Classificação da Vulnerabilidade**: Utilize a classificação CVSS (Common Vulnerability Scoring System) para entender a severidade das vulnerabilidades identificadas. As vulnerabilidades com pontuação mais alta (geralmente acima de 7) devem ser tratadas primeiro.\\n\\n2. **Impacto nos Negócios**: Avalie o impacto que a exploração da vulnerabilidade poderia ter nos ativos críticos da sua organização. Vulnerabilidades que afetam sistemas essenciais ou dados sensíveis devem ser priorizadas.\\n\\n3. **Exposição**: Considere a acessibilidade da vulnerabilidade. Vulnerabilidades em sistemas expostos à internet ou em redes de fácil acesso devem ser tratadas com urgência.\\n\\n4. **Facilidade de Exploração**: Avalie a facilidade com que um invasor poderia explorar a vulnerabilidade. Vulnerabilidades que podem ser exploradas sem muita habilidade técnica devem ser priorizadas.\\n\\n5. **Tempo de Exposição**: Se uma vulnerabilidade foi divulgada recentemente e já existem exploits conhecidos, trate-a imediatamente.\\n\\n6. **Conformidade e Regulações**: Considere requisitos de conformidade que possam exigir que certas vulnerabilidades sejam corrigidas dentro de prazos específicos.\\n\\n7. **Recursos e Custos**: Avalie os recursos disponíveis para mitigar as vulnerabilidades e os custos associados. Algumas ações podem ser mais dispendiosas ou complexas do que outras.\\n\\n8. **Planos de Mitigação**: Crie um plano para corrigir as vulnerabilidades, priorizando aquelas que oferecem o maior risco e impacto. \\n\\nAo seguir essas diretrizes, você pode criar uma abordagem estruturada para abordar as vulnerabilidades de maneira eficaz e eficiente.', additional_kwargs={'refusal': None}, response_metadata={'token_usage': {'completion_tokens': 356, 'prompt_tokens': 146, 'total_tokens': 502, 'completion_tokens_details': {'accepted_prediction_tokens': 0, 'audio_tokens': 0, 'reasoning_tokens': 0, 'rejected_prediction_tokens': 0}, 'prompt_tokens_details': {'audio_tokens': 0, 'cached_tokens': 0}}, 'model_name': 'gpt-4o-mini-2024-07-18', 'system_fingerprint': 'fp_d02d531b47', 'finish_reason': 'stop', 'logprobs': None}, id='run-0d3048e1-c9d7-49ac-a76d-21e134f201f3-0', usage_metadata={'input_tokens': 146, 'output_tokens': 356, 'total_tokens': 502, 'input_token_details': {'audio': 0, 'cache_read': 0}, 'output_token_details': {'audio': 0, 'reasoning': 0}})"
      ]
     },
     "execution_count": 48,
     "metadata": {},
     "output_type": "execute_result"
    }
   ],
   "source": [
    "res"
   ]
  },
  {
   "cell_type": "code",
   "execution_count": 49,
   "metadata": {},
   "outputs": [
    {
     "name": "stdout",
     "output_type": "stream",
     "text": [
      "Priorizar ações de mitigação pode ser feito seguindo algumas diretrizes:\n",
      "\n",
      "1. **Classificação da Vulnerabilidade**: Utilize a classificação CVSS (Common Vulnerability Scoring System) para entender a severidade das vulnerabilidades identificadas. As vulnerabilidades com pontuação mais alta (geralmente acima de 7) devem ser tratadas primeiro.\n",
      "\n",
      "2. **Impacto nos Negócios**: Avalie o impacto que a exploração da vulnerabilidade poderia ter nos ativos críticos da sua organização. Vulnerabilidades que afetam sistemas essenciais ou dados sensíveis devem ser priorizadas.\n",
      "\n",
      "3. **Exposição**: Considere a acessibilidade da vulnerabilidade. Vulnerabilidades em sistemas expostos à internet ou em redes de fácil acesso devem ser tratadas com urgência.\n",
      "\n",
      "4. **Facilidade de Exploração**: Avalie a facilidade com que um invasor poderia explorar a vulnerabilidade. Vulnerabilidades que podem ser exploradas sem muita habilidade técnica devem ser priorizadas.\n",
      "\n",
      "5. **Tempo de Exposição**: Se uma vulnerabilidade foi divulgada recentemente e já existem exploits conhecidos, trate-a imediatamente.\n",
      "\n",
      "6. **Conformidade e Regulações**: Considere requisitos de conformidade que possam exigir que certas vulnerabilidades sejam corrigidas dentro de prazos específicos.\n",
      "\n",
      "7. **Recursos e Custos**: Avalie os recursos disponíveis para mitigar as vulnerabilidades e os custos associados. Algumas ações podem ser mais dispendiosas ou complexas do que outras.\n",
      "\n",
      "8. **Planos de Mitigação**: Crie um plano para corrigir as vulnerabilidades, priorizando aquelas que oferecem o maior risco e impacto. \n",
      "\n",
      "Ao seguir essas diretrizes, você pode criar uma abordagem estruturada para abordar as vulnerabilidades de maneira eficaz e eficiente.\n"
     ]
    }
   ],
   "source": [
    "print(res.content)"
   ]
  },
  {
   "cell_type": "code",
   "execution_count": 50,
   "metadata": {},
   "outputs": [],
   "source": [
    "messages.append(res)"
   ]
  },
  {
   "cell_type": "code",
   "execution_count": 51,
   "metadata": {},
   "outputs": [
    {
     "data": {
      "text/plain": [
       "[SystemMessage(content='Você é um assistente especializado em segurança cibernética, com foco em análises do OpenVAS. Sua função é ajudar a interpretar relatórios, identificar vulnerabilidades e recomendar ações de mitigação.', additional_kwargs={}, response_metadata={}),\n",
       " HumanMessage(content='Quais são as vulnerabilidades críticas mais comuns encontradas nos relatórios do OpenVAS?', additional_kwargs={}, response_metadata={}),\n",
       " AIMessage(content='As vulnerabilidades críticas mais comuns incluem falta de patches em sistemas, autenticação fraca, exposição de serviços desnecessários, e uso de softwares desatualizados. Você pode mitigá-las mantendo os sistemas atualizados, implementando autenticação forte e desativando serviços desnecessários.', additional_kwargs={}, response_metadata={}),\n",
       " HumanMessage(content='Como posso priorizar as ações de mitigação?', additional_kwargs={}, response_metadata={}),\n",
       " AIMessage(content='Priorizar ações de mitigação pode ser feito seguindo algumas diretrizes:\\n\\n1. **Classificação da Vulnerabilidade**: Utilize a classificação CVSS (Common Vulnerability Scoring System) para entender a severidade das vulnerabilidades identificadas. As vulnerabilidades com pontuação mais alta (geralmente acima de 7) devem ser tratadas primeiro.\\n\\n2. **Impacto nos Negócios**: Avalie o impacto que a exploração da vulnerabilidade poderia ter nos ativos críticos da sua organização. Vulnerabilidades que afetam sistemas essenciais ou dados sensíveis devem ser priorizadas.\\n\\n3. **Exposição**: Considere a acessibilidade da vulnerabilidade. Vulnerabilidades em sistemas expostos à internet ou em redes de fácil acesso devem ser tratadas com urgência.\\n\\n4. **Facilidade de Exploração**: Avalie a facilidade com que um invasor poderia explorar a vulnerabilidade. Vulnerabilidades que podem ser exploradas sem muita habilidade técnica devem ser priorizadas.\\n\\n5. **Tempo de Exposição**: Se uma vulnerabilidade foi divulgada recentemente e já existem exploits conhecidos, trate-a imediatamente.\\n\\n6. **Conformidade e Regulações**: Considere requisitos de conformidade que possam exigir que certas vulnerabilidades sejam corrigidas dentro de prazos específicos.\\n\\n7. **Recursos e Custos**: Avalie os recursos disponíveis para mitigar as vulnerabilidades e os custos associados. Algumas ações podem ser mais dispendiosas ou complexas do que outras.\\n\\n8. **Planos de Mitigação**: Crie um plano para corrigir as vulnerabilidades, priorizando aquelas que oferecem o maior risco e impacto. \\n\\nAo seguir essas diretrizes, você pode criar uma abordagem estruturada para abordar as vulnerabilidades de maneira eficaz e eficiente.', additional_kwargs={'refusal': None}, response_metadata={'token_usage': {'completion_tokens': 356, 'prompt_tokens': 146, 'total_tokens': 502, 'completion_tokens_details': {'accepted_prediction_tokens': 0, 'audio_tokens': 0, 'reasoning_tokens': 0, 'rejected_prediction_tokens': 0}, 'prompt_tokens_details': {'audio_tokens': 0, 'cached_tokens': 0}}, 'model_name': 'gpt-4o-mini-2024-07-18', 'system_fingerprint': 'fp_d02d531b47', 'finish_reason': 'stop', 'logprobs': None}, id='run-0d3048e1-c9d7-49ac-a76d-21e134f201f3-0', usage_metadata={'input_tokens': 146, 'output_tokens': 356, 'total_tokens': 502, 'input_token_details': {'audio': 0, 'cache_read': 0}, 'output_token_details': {'audio': 0, 'reasoning': 0}})]"
      ]
     },
     "execution_count": 51,
     "metadata": {},
     "output_type": "execute_result"
    }
   ],
   "source": [
    "messages"
   ]
  },
  {
   "cell_type": "code",
   "execution_count": 52,
   "metadata": {},
   "outputs": [],
   "source": [
    "prompt = HumanMessage(content=\"Você poderia me explicar como funciona o OpenVAS?\")\n",
    "messages.append(prompt)"
   ]
  },
  {
   "cell_type": "code",
   "execution_count": 53,
   "metadata": {},
   "outputs": [
    {
     "name": "stdout",
     "output_type": "stream",
     "text": [
      "Claro! O OpenVAS (Open Vulnerability Assessment System) é uma ferramenta de código aberto projetada para realizar varreduras de vulnerabilidades em sistemas e redes. Aqui está uma visão geral de como ele funciona:\n",
      "\n",
      "### Componentes Principais:\n",
      "\n",
      "1. **OpenVAS Scanner**: Este é o componente que realiza as varreduras efetivas nos hosts. Ele executa testes para identificar vulnerabilidades conhecidas.\n",
      "\n",
      "2. **OpenVAS Manager**: É responsável pela gestão das configurações das varreduras, armazenamento dos resultados e interação com o scanner. Ele gerencia as tarefas de varredura e mantém um banco de dados das vulnerabilidades identificadas.\n",
      "\n",
      "3. **Greenbone Security Assistant (GSA)**: Esta é a interface web que permite aos usuários interagir com o OpenVAS. Através do GSA, você pode configurar varreduras, visualizar resultados e gerar relatórios.\n",
      "\n",
      "### Funcionamento:\n",
      "\n",
      "1. **Configuração**: O usuário define as configurações de varredura, como quais alvos (hosts) serão analisados, quais plugins específicos de vulnerabilidade serão utilizados e quais credenciais (se necessário) serão usadas para varreduras autenticadas.\n",
      "\n",
      "2. **Execução da Varredura**: O OpenVAS Scanner se conecta aos hosts definidos e executa uma série de testes de vulnerabilidade. Isso pode incluir a verificação de serviços em execução, configurações de segurança, software desatualizado, entre outros.\n",
      "\n",
      "3. **Identificação de Vulnerabilidades**: Durante a varredura, o OpenVAS compara os resultados com uma base de dados de vulnerabilidades conhecidas (usando o formato de plugins do OpenVAS). Cada teste pode resultar em uma identificação de vulnerabilidade com sua gravidade, descrição e recomendações de mitigação.\n",
      "\n",
      "4. **Relatórios**: Após a conclusão da varredura, os resultados são armazenados no OpenVAS Manager. Os usuários podem acessar esses resultados através do GSA, onde podem visualizar detalhes sobre cada vulnerabilidade, gerar relatórios e exportar os dados em vários formatos (PDF, CSV, etc.).\n",
      "\n",
      "5. **Atualizações**: O OpenVAS é atualizado regularmente com novos plugins e definições de vulnerabilidades, permitindo que ele identifique ameaças emergentes.\n",
      "\n",
      "### Uso Prático:\n",
      "\n",
      "- **Auditorias de Segurança**: Para identificar e remediar vulnerabilidades em sistemas e redes.\n",
      "- **Conformidade**: Para atender a requisitos de segurança e conformidade regulatória.\n",
      "- **Teste de Penetração**: Como parte de uma abordagem mais ampla de teste de segurança.\n",
      "\n",
      "O OpenVAS é uma ferramenta poderosa para a gestão de vulnerabilidades, e seu uso regular pode ajudar a melhorar a postura de segurança de uma organização.\n"
     ]
    }
   ],
   "source": [
    "res = chat.invoke(messages)\n",
    "print(res.content)"
   ]
  },
  {
   "cell_type": "code",
   "execution_count": 54,
   "metadata": {},
   "outputs": [],
   "source": [
    "import pandas as pd\n",
    "df = pd.read_csv('data/miniopenvas.csv')\n"
   ]
  },
  {
   "cell_type": "code",
   "execution_count": 55,
   "metadata": {},
   "outputs": [],
   "source": [
    "context = [\n",
    "    \"Aqui está um exemplo de relatório do OpenVAS:\",\n",
    "    df.to_string(index=False),\n",
    "    \"Quero que você me ajude a interpretar este relatório e identificar as vulnerabilidades críticas.\"\n",
    "]\n",
    "\n",
    "source_knowledge = \"\\n\".join(context)"
   ]
  },
  {
   "cell_type": "code",
   "execution_count": 58,
   "metadata": {},
   "outputs": [],
   "source": [
    "query = \"Quero que me ajude a interpretar este relatório e identificar as vulnerabilidades mais críticas e sugerir a priorizar a mitigação das vulnerabilidades mais critivas.\"\n",
    "\n",
    "augmented_prompt = f\"\"\"\n",
    "    Use o contexto abaixo para responder à seguinte pergunta:\n",
    "\n",
    "    Contexto: {source_knowledge}\n",
    "\n",
    "    Pergunta: {query}\n",
    "\n",
    "    Boa prática: não forneça o endereço IP ou nome do host do sistema nas respostas\n",
    "\"\"\""
   ]
  },
  {
   "cell_type": "code",
   "execution_count": 59,
   "metadata": {},
   "outputs": [
    {
     "name": "stdout",
     "output_type": "stream",
     "text": [
      "Vamos analisar o relatório apresentado:\n",
      "\n",
      "1. **Informações Gerais**:\n",
      "   - **CVSS Severity**: A gravidade é classificada como \"Low\" (2.1), indicando que a vulnerabilidade não é crítica.\n",
      "   - **NVT Name**: \"ICMP Timestamp Reply Information Disclosure\", o que sugere que a vulnerabilidade está relacionada ao vazamento de informações através de respostas a requisições ICMP.\n",
      "\n",
      "2. **Detalhes da Vulnerabilidade**:\n",
      "   - A vulnerabilidade permite que um host responda a uma solicitação de timestamp ICMP, o que pode ser utilizado para explorar geradores de números aleatórios baseados em tempo em outros serviços.\n",
      "   - O relatório menciona que essa informação pode ser usada teoricamente para explorar fraquezas em serviços que dependem de números aleatórios.\n",
      "\n",
      "3. **Soluções Sugeridas**:\n",
      "   - **Desativar o suporte para ICMP timestamp**: Isso deve ser feito no host afetado para evitar que ele responda a essas requisições.\n",
      "   - **Proteger o host com um firewall**: É recomendado bloquear pacotes ICMP que passam pelo firewall, especialmente em redes não confiáveis.\n",
      "\n",
      "4. **Impacto**:\n",
      "   - Embora a vulnerabilidade tenha um impacto potencial, o nível de severidade é considerado baixo, o que significa que, embora a mitigação seja recomendada, não é uma prioridade imediata em comparação com vulnerabilidades críticas.\n",
      "\n",
      "### Identificação de Vulnerabilidades Críticas\n",
      "\n",
      "Neste relatório específico, não há vulnerabilidades críticas identificadas, uma vez que a gravidade é baixa. Para a priorização de mitigação, considere os seguintes passos:\n",
      "\n",
      "- **Priorizar Vulnerabilidades Críticas**: Se houver outros relatórios ou partes do sistema com vulnerabilidades com pontuação CVSS maior ou que representem um maior risco (como acessibilidade na internet, sistemas críticos, etc.), essas devem ser tratadas primeiro.\n",
      "  \n",
      "- **Mitigação da Vulnerabilidade Atual**: Embora a vulnerabilidade identificada não seja crítica, recomenda-se a implementação das soluções sugeridas para mitigar qualquer risco potencial, especialmente se o sistema estiver em um ambiente onde a segurança é uma preocupação elevada.\n",
      "\n",
      "- **Monitoramento Contíno**: Continue a realizar escaneamentos regulares com o OpenVAS para identificar novas vulnerabilidades que possam surgir e que possam ser mais críticas.\n",
      "\n",
      "### Conclusão\n",
      "\n",
      "Neste caso específico, não há vulnerabilidades críticas a serem tratadas com urgência. No entanto, a mitigação da vulnerabilidade identificada deve ser realizada para garantir a segurança geral do sistema. Se você tiver outros relatórios do OpenVAS ou informações sobre vulnerabilidades adicionais, posso ajudar a analisá-los e priorizá-los.\n"
     ]
    }
   ],
   "source": [
    "prompt = HumanMessage(content=augmented_prompt)\n",
    "\n",
    "messages.append(prompt)\n",
    "\n",
    "res = chat.invoke(messages, )\n",
    "print(res.content)"
   ]
  },
  {
   "cell_type": "markdown",
   "metadata": {},
   "source": [
    "Embeddings"
   ]
  },
  {
   "cell_type": "code",
   "execution_count": 64,
   "metadata": {},
   "outputs": [],
   "source": [
    "data = pd.read_csv('data/openvas.csv')"
   ]
  },
  {
   "cell_type": "code",
   "execution_count": 65,
   "metadata": {},
   "outputs": [],
   "source": [
    "from langchain_openai import OpenAIEmbeddings\n",
    "embed_model = OpenAIEmbeddings(model=\"text-embedding-3-small\")"
   ]
  },
  {
   "cell_type": "code",
   "execution_count": 66,
   "metadata": {},
   "outputs": [
    {
     "data": {
      "text/plain": [
       "(2, 1536)"
      ]
     },
     "execution_count": 66,
     "metadata": {},
     "output_type": "execute_result"
    }
   ],
   "source": [
    "texts = [\n",
    "    'this is a test',\n",
    "    'this is another test',\n",
    "]\n",
    "\n",
    "res = embed_model.embed_documents(texts)\n",
    "len(res), len(res[0])\n"
   ]
  },
  {
   "cell_type": "code",
   "execution_count": 72,
   "metadata": {},
   "outputs": [
    {
     "data": {
      "text/html": [
       "<div>\n",
       "<style scoped>\n",
       "    .dataframe tbody tr th:only-of-type {\n",
       "        vertical-align: middle;\n",
       "    }\n",
       "\n",
       "    .dataframe tbody tr th {\n",
       "        vertical-align: top;\n",
       "    }\n",
       "\n",
       "    .dataframe thead th {\n",
       "        text-align: right;\n",
       "    }\n",
       "</style>\n",
       "<table border=\"1\" class=\"dataframe\">\n",
       "  <thead>\n",
       "    <tr style=\"text-align: right;\">\n",
       "      <th></th>\n",
       "      <th>Port</th>\n",
       "      <th>Port Protocol</th>\n",
       "      <th>CVSS</th>\n",
       "      <th>Severity</th>\n",
       "      <th>QoD</th>\n",
       "      <th>Solution Type</th>\n",
       "      <th>NVT Name</th>\n",
       "      <th>Summary</th>\n",
       "      <th>Specific Result</th>\n",
       "      <th>NVT OID</th>\n",
       "      <th>CVEs</th>\n",
       "      <th>Impact</th>\n",
       "      <th>Solution</th>\n",
       "      <th>Affected Software/OS</th>\n",
       "      <th>Vulnerability Insight</th>\n",
       "      <th>Vulnerability Detection Method</th>\n",
       "      <th>Product Detection Result</th>\n",
       "    </tr>\n",
       "  </thead>\n",
       "  <tbody>\n",
       "    <tr>\n",
       "      <th>0</th>\n",
       "      <td>623.0</td>\n",
       "      <td>udp</td>\n",
       "      <td>10.0</td>\n",
       "      <td>High</td>\n",
       "      <td>99</td>\n",
       "      <td>VendorFix</td>\n",
       "      <td>IPMI Cipher Zero Authentication Bypass Vulnera...</td>\n",
       "      <td>Intelligent Platform Management Interface (IPM...</td>\n",
       "      <td>The remote IPMI service accepted a session ope...</td>\n",
       "      <td>1.3.6.1.4.1.25623.1.0.103840</td>\n",
       "      <td>NaN</td>\n",
       "      <td>Attackers can exploit this issue to gain admin...</td>\n",
       "      <td>Ask the Vendor for an update.</td>\n",
       "      <td>NaN</td>\n",
       "      <td>The remote IPMI service accepted a session ope...</td>\n",
       "      <td>Sends a request with a zero cipher and checks ...</td>\n",
       "      <td>NaN</td>\n",
       "    </tr>\n",
       "    <tr>\n",
       "      <th>1</th>\n",
       "      <td>623.0</td>\n",
       "      <td>udp</td>\n",
       "      <td>10.0</td>\n",
       "      <td>High</td>\n",
       "      <td>99</td>\n",
       "      <td>VendorFix</td>\n",
       "      <td>IPMI Cipher Zero Authentication Bypass Vulnera...</td>\n",
       "      <td>Intelligent Platform Management Interface (IPM...</td>\n",
       "      <td>The remote IPMI service accepted a session ope...</td>\n",
       "      <td>1.3.6.1.4.1.25623.1.0.103840</td>\n",
       "      <td>NaN</td>\n",
       "      <td>Attackers can exploit this issue to gain admin...</td>\n",
       "      <td>Ask the Vendor for an update.</td>\n",
       "      <td>NaN</td>\n",
       "      <td>The remote IPMI service accepted a session ope...</td>\n",
       "      <td>Sends a request with a zero cipher and checks ...</td>\n",
       "      <td>NaN</td>\n",
       "    </tr>\n",
       "    <tr>\n",
       "      <th>2</th>\n",
       "      <td>NaN</td>\n",
       "      <td>NaN</td>\n",
       "      <td>10.0</td>\n",
       "      <td>High</td>\n",
       "      <td>80</td>\n",
       "      <td>Mitigation</td>\n",
       "      <td>Operating System (OS) End of Life (EOL) Detection</td>\n",
       "      <td>The Operating System (OS) on the remote host h...</td>\n",
       "      <td>The \"Ubuntu\" Operating System on the remote ho...</td>\n",
       "      <td>1.3.6.1.4.1.25623.1.0.103674</td>\n",
       "      <td>NaN</td>\n",
       "      <td>An EOL version of an OS is not receiving any s...</td>\n",
       "      <td>Upgrade the OS on the remote host to a version...</td>\n",
       "      <td>NaN</td>\n",
       "      <td>NaN</td>\n",
       "      <td>Checks if an EOL version of an OS is present o...</td>\n",
       "      <td>Product: cpe:/o:canonical:ubuntu_linux:12.04\\n...</td>\n",
       "    </tr>\n",
       "    <tr>\n",
       "      <th>3</th>\n",
       "      <td>NaN</td>\n",
       "      <td>NaN</td>\n",
       "      <td>10.0</td>\n",
       "      <td>High</td>\n",
       "      <td>80</td>\n",
       "      <td>Mitigation</td>\n",
       "      <td>Operating System (OS) End of Life (EOL) Detection</td>\n",
       "      <td>The Operating System (OS) on the remote host h...</td>\n",
       "      <td>The \"Ubuntu\" Operating System on the remote ho...</td>\n",
       "      <td>1.3.6.1.4.1.25623.1.0.103674</td>\n",
       "      <td>NaN</td>\n",
       "      <td>An EOL version of an OS is not receiving any s...</td>\n",
       "      <td>Upgrade the OS on the remote host to a version...</td>\n",
       "      <td>NaN</td>\n",
       "      <td>NaN</td>\n",
       "      <td>Checks if an EOL version of an OS is present o...</td>\n",
       "      <td>Product: cpe:/o:canonical:ubuntu_linux:12.04\\n...</td>\n",
       "    </tr>\n",
       "    <tr>\n",
       "      <th>4</th>\n",
       "      <td>623.0</td>\n",
       "      <td>udp</td>\n",
       "      <td>10.0</td>\n",
       "      <td>High</td>\n",
       "      <td>80</td>\n",
       "      <td>Workaround</td>\n",
       "      <td>IPMI No Auth Access Mode Enabled (IPMI Protocol)</td>\n",
       "      <td>The remote Intelligent Platform Management Int...</td>\n",
       "      <td>The remote IPMI service has the 'No Auth' acce...</td>\n",
       "      <td>1.3.6.1.4.1.25623.1.0.103837</td>\n",
       "      <td>NaN</td>\n",
       "      <td>NaN</td>\n",
       "      <td>Disable the 'No Auth' access mode. Please cont...</td>\n",
       "      <td>NaN</td>\n",
       "      <td>NaN</td>\n",
       "      <td>Evaluates information gathered by the VT 'Inte...</td>\n",
       "      <td>NaN</td>\n",
       "    </tr>\n",
       "  </tbody>\n",
       "</table>\n",
       "</div>"
      ],
      "text/plain": [
       "    Port Port Protocol  CVSS Severity  QoD Solution Type  \\\n",
       "0  623.0           udp  10.0     High   99     VendorFix   \n",
       "1  623.0           udp  10.0     High   99     VendorFix   \n",
       "2    NaN           NaN  10.0     High   80    Mitigation   \n",
       "3    NaN           NaN  10.0     High   80    Mitigation   \n",
       "4  623.0           udp  10.0     High   80    Workaround   \n",
       "\n",
       "                                            NVT Name  \\\n",
       "0  IPMI Cipher Zero Authentication Bypass Vulnera...   \n",
       "1  IPMI Cipher Zero Authentication Bypass Vulnera...   \n",
       "2  Operating System (OS) End of Life (EOL) Detection   \n",
       "3  Operating System (OS) End of Life (EOL) Detection   \n",
       "4   IPMI No Auth Access Mode Enabled (IPMI Protocol)   \n",
       "\n",
       "                                             Summary  \\\n",
       "0  Intelligent Platform Management Interface (IPM...   \n",
       "1  Intelligent Platform Management Interface (IPM...   \n",
       "2  The Operating System (OS) on the remote host h...   \n",
       "3  The Operating System (OS) on the remote host h...   \n",
       "4  The remote Intelligent Platform Management Int...   \n",
       "\n",
       "                                     Specific Result  \\\n",
       "0  The remote IPMI service accepted a session ope...   \n",
       "1  The remote IPMI service accepted a session ope...   \n",
       "2  The \"Ubuntu\" Operating System on the remote ho...   \n",
       "3  The \"Ubuntu\" Operating System on the remote ho...   \n",
       "4  The remote IPMI service has the 'No Auth' acce...   \n",
       "\n",
       "                        NVT OID CVEs  \\\n",
       "0  1.3.6.1.4.1.25623.1.0.103840  NaN   \n",
       "1  1.3.6.1.4.1.25623.1.0.103840  NaN   \n",
       "2  1.3.6.1.4.1.25623.1.0.103674  NaN   \n",
       "3  1.3.6.1.4.1.25623.1.0.103674  NaN   \n",
       "4  1.3.6.1.4.1.25623.1.0.103837  NaN   \n",
       "\n",
       "                                              Impact  \\\n",
       "0  Attackers can exploit this issue to gain admin...   \n",
       "1  Attackers can exploit this issue to gain admin...   \n",
       "2  An EOL version of an OS is not receiving any s...   \n",
       "3  An EOL version of an OS is not receiving any s...   \n",
       "4                                                NaN   \n",
       "\n",
       "                                            Solution Affected Software/OS  \\\n",
       "0                      Ask the Vendor for an update.                  NaN   \n",
       "1                      Ask the Vendor for an update.                  NaN   \n",
       "2  Upgrade the OS on the remote host to a version...                  NaN   \n",
       "3  Upgrade the OS on the remote host to a version...                  NaN   \n",
       "4  Disable the 'No Auth' access mode. Please cont...                  NaN   \n",
       "\n",
       "                               Vulnerability Insight  \\\n",
       "0  The remote IPMI service accepted a session ope...   \n",
       "1  The remote IPMI service accepted a session ope...   \n",
       "2                                                NaN   \n",
       "3                                                NaN   \n",
       "4                                                NaN   \n",
       "\n",
       "                      Vulnerability Detection Method  \\\n",
       "0  Sends a request with a zero cipher and checks ...   \n",
       "1  Sends a request with a zero cipher and checks ...   \n",
       "2  Checks if an EOL version of an OS is present o...   \n",
       "3  Checks if an EOL version of an OS is present o...   \n",
       "4  Evaluates information gathered by the VT 'Inte...   \n",
       "\n",
       "                            Product Detection Result  \n",
       "0                                                NaN  \n",
       "1                                                NaN  \n",
       "2  Product: cpe:/o:canonical:ubuntu_linux:12.04\\n...  \n",
       "3  Product: cpe:/o:canonical:ubuntu_linux:12.04\\n...  \n",
       "4                                                NaN  "
      ]
     },
     "execution_count": 72,
     "metadata": {},
     "output_type": "execute_result"
    }
   ],
   "source": [
    "docs = data[[\n",
    "    'Port', 'Port Protocol', 'CVSS', 'Severity', 'QoD', 'Solution Type', 'NVT Name', 'Summary', 'Specific Result', 'NVT OID',\n",
    "    'CVEs', 'Impact', 'Solution', 'Affected Software/OS', 'Vulnerability Insight', 'Vulnerability Detection Method', 'Product Detection Result',\n",
    "    ]]\n",
    "docs.head()"
   ]
  }
 ],
 "metadata": {
  "kernelspec": {
   "display_name": "venv",
   "language": "python",
   "name": "python3"
  },
  "language_info": {
   "codemirror_mode": {
    "name": "ipython",
    "version": 3
   },
   "file_extension": ".py",
   "mimetype": "text/x-python",
   "name": "python",
   "nbconvert_exporter": "python",
   "pygments_lexer": "ipython3",
   "version": "3.12.3"
  }
 },
 "nbformat": 4,
 "nbformat_minor": 2
}
