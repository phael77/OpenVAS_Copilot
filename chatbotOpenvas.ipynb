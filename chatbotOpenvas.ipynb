{
 "cells": [
  {
   "cell_type": "code",
   "execution_count": 28,
   "metadata": {},
   "outputs": [],
   "source": [
    "import os\n",
    "from dotenv import load_dotenv\n",
    "from langchain_openai import ChatOpenAI"
   ]
  },
  {
   "cell_type": "code",
   "execution_count": 29,
   "metadata": {},
   "outputs": [
    {
     "name": "stdout",
     "output_type": "stream",
     "text": [
      "API key loaded successfully.\n"
     ]
    }
   ],
   "source": [
    "import os\n",
    "from dotenv import load_dotenv\n",
    "\n",
    "# Carregar variáveis de ambiente do arquivo .env\n",
    "load_dotenv()\n",
    "\n",
    "api_key = os.getenv('OPENAI_API_KEY')\n",
    "\n",
    "if api_key is None:\n",
    "    raise ValueError(\"API key not found. Please set the OPENAI_API_KEY environment variable.\")\n",
    "else:\n",
    "    print(\"API key loaded successfully.\")"
   ]
  },
  {
   "cell_type": "code",
   "execution_count": 27,
   "metadata": {},
   "outputs": [],
   "source": [
    "chat = ChatOpenAI(\n",
    "    api_key=api_key,\n",
    "    model=\"gpt-4o-mini\",\n",
    "    max_tokens=10000,\n",
    ")"
   ]
  },
  {
   "cell_type": "code",
   "execution_count": 22,
   "metadata": {},
   "outputs": [],
   "source": [
    "from langchain.schema import SystemMessage, HumanMessage, AIMessage\n",
    "\n",
    "messages = [\n",
    "    SystemMessage(content=\"Você é um assistente especializado em segurança cibernética, com foco em análises do OpenVAS. \"\n",
    "                          \"Sua função é ajudar a interpretar relatórios, identificar vulnerabilidades e recomendar ações de mitigação.\"),\n",
    "    HumanMessage(content=\"Quais são as vulnerabilidades críticas mais comuns encontradas nos relatórios do OpenVAS?\"),\n",
    "    AIMessage(content=\"As vulnerabilidades críticas mais comuns incluem falta de patches em sistemas, autenticação fraca, \"\n",
    "                      \"exposição de serviços desnecessários, e uso de softwares desatualizados. Você pode mitigá-las \"\n",
    "                      \"mantendo os sistemas atualizados, implementando autenticação forte e desativando serviços desnecessários.\"),\n",
    "    HumanMessage(content=\"Como posso priorizar as ações de mitigação?\"),\n",
    "]"
   ]
  },
  {
   "cell_type": "code",
   "execution_count": 23,
   "metadata": {},
   "outputs": [
    {
     "ename": "AuthenticationError",
     "evalue": "Error code: 401 - {'error': {'message': 'Incorrect API key provided: sk-proj-********************************************************************************************************************************************************GuYA. You can find your API key at https://platform.openai.com/account/api-keys.', 'type': 'invalid_request_error', 'param': None, 'code': 'invalid_api_key'}}",
     "output_type": "error",
     "traceback": [
      "\u001b[1;31m---------------------------------------------------------------------------\u001b[0m",
      "\u001b[1;31mAuthenticationError\u001b[0m                       Traceback (most recent call last)",
      "Cell \u001b[1;32mIn[23], line 1\u001b[0m\n\u001b[1;32m----> 1\u001b[0m res \u001b[38;5;241m=\u001b[39m \u001b[43mchat\u001b[49m\u001b[38;5;241;43m.\u001b[39;49m\u001b[43minvoke\u001b[49m\u001b[43m(\u001b[49m\u001b[43mmessages\u001b[49m\u001b[43m)\u001b[49m\n",
      "File \u001b[1;32mc:\\Users\\rapha\\OpenVAS_Copilot\\.venv\\Lib\\site-packages\\langchain_core\\language_models\\chat_models.py:286\u001b[0m, in \u001b[0;36mBaseChatModel.invoke\u001b[1;34m(self, input, config, stop, **kwargs)\u001b[0m\n\u001b[0;32m    275\u001b[0m \u001b[38;5;28;01mdef\u001b[39;00m \u001b[38;5;21minvoke\u001b[39m(\n\u001b[0;32m    276\u001b[0m     \u001b[38;5;28mself\u001b[39m,\n\u001b[0;32m    277\u001b[0m     \u001b[38;5;28minput\u001b[39m: LanguageModelInput,\n\u001b[1;32m   (...)\u001b[0m\n\u001b[0;32m    281\u001b[0m     \u001b[38;5;241m*\u001b[39m\u001b[38;5;241m*\u001b[39mkwargs: Any,\n\u001b[0;32m    282\u001b[0m ) \u001b[38;5;241m-\u001b[39m\u001b[38;5;241m>\u001b[39m BaseMessage:\n\u001b[0;32m    283\u001b[0m     config \u001b[38;5;241m=\u001b[39m ensure_config(config)\n\u001b[0;32m    284\u001b[0m     \u001b[38;5;28;01mreturn\u001b[39;00m cast(\n\u001b[0;32m    285\u001b[0m         ChatGeneration,\n\u001b[1;32m--> 286\u001b[0m         \u001b[38;5;28;43mself\u001b[39;49m\u001b[38;5;241;43m.\u001b[39;49m\u001b[43mgenerate_prompt\u001b[49m\u001b[43m(\u001b[49m\n\u001b[0;32m    287\u001b[0m \u001b[43m            \u001b[49m\u001b[43m[\u001b[49m\u001b[38;5;28;43mself\u001b[39;49m\u001b[38;5;241;43m.\u001b[39;49m\u001b[43m_convert_input\u001b[49m\u001b[43m(\u001b[49m\u001b[38;5;28;43minput\u001b[39;49m\u001b[43m)\u001b[49m\u001b[43m]\u001b[49m\u001b[43m,\u001b[49m\n\u001b[0;32m    288\u001b[0m \u001b[43m            \u001b[49m\u001b[43mstop\u001b[49m\u001b[38;5;241;43m=\u001b[39;49m\u001b[43mstop\u001b[49m\u001b[43m,\u001b[49m\n\u001b[0;32m    289\u001b[0m \u001b[43m            \u001b[49m\u001b[43mcallbacks\u001b[49m\u001b[38;5;241;43m=\u001b[39;49m\u001b[43mconfig\u001b[49m\u001b[38;5;241;43m.\u001b[39;49m\u001b[43mget\u001b[49m\u001b[43m(\u001b[49m\u001b[38;5;124;43m\"\u001b[39;49m\u001b[38;5;124;43mcallbacks\u001b[39;49m\u001b[38;5;124;43m\"\u001b[39;49m\u001b[43m)\u001b[49m\u001b[43m,\u001b[49m\n\u001b[0;32m    290\u001b[0m \u001b[43m            \u001b[49m\u001b[43mtags\u001b[49m\u001b[38;5;241;43m=\u001b[39;49m\u001b[43mconfig\u001b[49m\u001b[38;5;241;43m.\u001b[39;49m\u001b[43mget\u001b[49m\u001b[43m(\u001b[49m\u001b[38;5;124;43m\"\u001b[39;49m\u001b[38;5;124;43mtags\u001b[39;49m\u001b[38;5;124;43m\"\u001b[39;49m\u001b[43m)\u001b[49m\u001b[43m,\u001b[49m\n\u001b[0;32m    291\u001b[0m \u001b[43m            \u001b[49m\u001b[43mmetadata\u001b[49m\u001b[38;5;241;43m=\u001b[39;49m\u001b[43mconfig\u001b[49m\u001b[38;5;241;43m.\u001b[39;49m\u001b[43mget\u001b[49m\u001b[43m(\u001b[49m\u001b[38;5;124;43m\"\u001b[39;49m\u001b[38;5;124;43mmetadata\u001b[39;49m\u001b[38;5;124;43m\"\u001b[39;49m\u001b[43m)\u001b[49m\u001b[43m,\u001b[49m\n\u001b[0;32m    292\u001b[0m \u001b[43m            \u001b[49m\u001b[43mrun_name\u001b[49m\u001b[38;5;241;43m=\u001b[39;49m\u001b[43mconfig\u001b[49m\u001b[38;5;241;43m.\u001b[39;49m\u001b[43mget\u001b[49m\u001b[43m(\u001b[49m\u001b[38;5;124;43m\"\u001b[39;49m\u001b[38;5;124;43mrun_name\u001b[39;49m\u001b[38;5;124;43m\"\u001b[39;49m\u001b[43m)\u001b[49m\u001b[43m,\u001b[49m\n\u001b[0;32m    293\u001b[0m \u001b[43m            \u001b[49m\u001b[43mrun_id\u001b[49m\u001b[38;5;241;43m=\u001b[39;49m\u001b[43mconfig\u001b[49m\u001b[38;5;241;43m.\u001b[39;49m\u001b[43mpop\u001b[49m\u001b[43m(\u001b[49m\u001b[38;5;124;43m\"\u001b[39;49m\u001b[38;5;124;43mrun_id\u001b[39;49m\u001b[38;5;124;43m\"\u001b[39;49m\u001b[43m,\u001b[49m\u001b[43m \u001b[49m\u001b[38;5;28;43;01mNone\u001b[39;49;00m\u001b[43m)\u001b[49m\u001b[43m,\u001b[49m\n\u001b[0;32m    294\u001b[0m \u001b[43m            \u001b[49m\u001b[38;5;241;43m*\u001b[39;49m\u001b[38;5;241;43m*\u001b[39;49m\u001b[43mkwargs\u001b[49m\u001b[43m,\u001b[49m\n\u001b[0;32m    295\u001b[0m \u001b[43m        \u001b[49m\u001b[43m)\u001b[49m\u001b[38;5;241m.\u001b[39mgenerations[\u001b[38;5;241m0\u001b[39m][\u001b[38;5;241m0\u001b[39m],\n\u001b[0;32m    296\u001b[0m     )\u001b[38;5;241m.\u001b[39mmessage\n",
      "File \u001b[1;32mc:\\Users\\rapha\\OpenVAS_Copilot\\.venv\\Lib\\site-packages\\langchain_core\\language_models\\chat_models.py:786\u001b[0m, in \u001b[0;36mBaseChatModel.generate_prompt\u001b[1;34m(self, prompts, stop, callbacks, **kwargs)\u001b[0m\n\u001b[0;32m    778\u001b[0m \u001b[38;5;28;01mdef\u001b[39;00m \u001b[38;5;21mgenerate_prompt\u001b[39m(\n\u001b[0;32m    779\u001b[0m     \u001b[38;5;28mself\u001b[39m,\n\u001b[0;32m    780\u001b[0m     prompts: \u001b[38;5;28mlist\u001b[39m[PromptValue],\n\u001b[1;32m   (...)\u001b[0m\n\u001b[0;32m    783\u001b[0m     \u001b[38;5;241m*\u001b[39m\u001b[38;5;241m*\u001b[39mkwargs: Any,\n\u001b[0;32m    784\u001b[0m ) \u001b[38;5;241m-\u001b[39m\u001b[38;5;241m>\u001b[39m LLMResult:\n\u001b[0;32m    785\u001b[0m     prompt_messages \u001b[38;5;241m=\u001b[39m [p\u001b[38;5;241m.\u001b[39mto_messages() \u001b[38;5;28;01mfor\u001b[39;00m p \u001b[38;5;129;01min\u001b[39;00m prompts]\n\u001b[1;32m--> 786\u001b[0m     \u001b[38;5;28;01mreturn\u001b[39;00m \u001b[38;5;28;43mself\u001b[39;49m\u001b[38;5;241;43m.\u001b[39;49m\u001b[43mgenerate\u001b[49m\u001b[43m(\u001b[49m\u001b[43mprompt_messages\u001b[49m\u001b[43m,\u001b[49m\u001b[43m \u001b[49m\u001b[43mstop\u001b[49m\u001b[38;5;241;43m=\u001b[39;49m\u001b[43mstop\u001b[49m\u001b[43m,\u001b[49m\u001b[43m \u001b[49m\u001b[43mcallbacks\u001b[49m\u001b[38;5;241;43m=\u001b[39;49m\u001b[43mcallbacks\u001b[49m\u001b[43m,\u001b[49m\u001b[43m \u001b[49m\u001b[38;5;241;43m*\u001b[39;49m\u001b[38;5;241;43m*\u001b[39;49m\u001b[43mkwargs\u001b[49m\u001b[43m)\u001b[49m\n",
      "File \u001b[1;32mc:\\Users\\rapha\\OpenVAS_Copilot\\.venv\\Lib\\site-packages\\langchain_core\\language_models\\chat_models.py:643\u001b[0m, in \u001b[0;36mBaseChatModel.generate\u001b[1;34m(self, messages, stop, callbacks, tags, metadata, run_name, run_id, **kwargs)\u001b[0m\n\u001b[0;32m    641\u001b[0m         \u001b[38;5;28;01mif\u001b[39;00m run_managers:\n\u001b[0;32m    642\u001b[0m             run_managers[i]\u001b[38;5;241m.\u001b[39mon_llm_error(e, response\u001b[38;5;241m=\u001b[39mLLMResult(generations\u001b[38;5;241m=\u001b[39m[]))\n\u001b[1;32m--> 643\u001b[0m         \u001b[38;5;28;01mraise\u001b[39;00m e\n\u001b[0;32m    644\u001b[0m flattened_outputs \u001b[38;5;241m=\u001b[39m [\n\u001b[0;32m    645\u001b[0m     LLMResult(generations\u001b[38;5;241m=\u001b[39m[res\u001b[38;5;241m.\u001b[39mgenerations], llm_output\u001b[38;5;241m=\u001b[39mres\u001b[38;5;241m.\u001b[39mllm_output)  \u001b[38;5;66;03m# type: ignore[list-item]\u001b[39;00m\n\u001b[0;32m    646\u001b[0m     \u001b[38;5;28;01mfor\u001b[39;00m res \u001b[38;5;129;01min\u001b[39;00m results\n\u001b[0;32m    647\u001b[0m ]\n\u001b[0;32m    648\u001b[0m llm_output \u001b[38;5;241m=\u001b[39m \u001b[38;5;28mself\u001b[39m\u001b[38;5;241m.\u001b[39m_combine_llm_outputs([res\u001b[38;5;241m.\u001b[39mllm_output \u001b[38;5;28;01mfor\u001b[39;00m res \u001b[38;5;129;01min\u001b[39;00m results])\n",
      "File \u001b[1;32mc:\\Users\\rapha\\OpenVAS_Copilot\\.venv\\Lib\\site-packages\\langchain_core\\language_models\\chat_models.py:633\u001b[0m, in \u001b[0;36mBaseChatModel.generate\u001b[1;34m(self, messages, stop, callbacks, tags, metadata, run_name, run_id, **kwargs)\u001b[0m\n\u001b[0;32m    630\u001b[0m \u001b[38;5;28;01mfor\u001b[39;00m i, m \u001b[38;5;129;01min\u001b[39;00m \u001b[38;5;28menumerate\u001b[39m(messages):\n\u001b[0;32m    631\u001b[0m     \u001b[38;5;28;01mtry\u001b[39;00m:\n\u001b[0;32m    632\u001b[0m         results\u001b[38;5;241m.\u001b[39mappend(\n\u001b[1;32m--> 633\u001b[0m             \u001b[38;5;28;43mself\u001b[39;49m\u001b[38;5;241;43m.\u001b[39;49m\u001b[43m_generate_with_cache\u001b[49m\u001b[43m(\u001b[49m\n\u001b[0;32m    634\u001b[0m \u001b[43m                \u001b[49m\u001b[43mm\u001b[49m\u001b[43m,\u001b[49m\n\u001b[0;32m    635\u001b[0m \u001b[43m                \u001b[49m\u001b[43mstop\u001b[49m\u001b[38;5;241;43m=\u001b[39;49m\u001b[43mstop\u001b[49m\u001b[43m,\u001b[49m\n\u001b[0;32m    636\u001b[0m \u001b[43m                \u001b[49m\u001b[43mrun_manager\u001b[49m\u001b[38;5;241;43m=\u001b[39;49m\u001b[43mrun_managers\u001b[49m\u001b[43m[\u001b[49m\u001b[43mi\u001b[49m\u001b[43m]\u001b[49m\u001b[43m \u001b[49m\u001b[38;5;28;43;01mif\u001b[39;49;00m\u001b[43m \u001b[49m\u001b[43mrun_managers\u001b[49m\u001b[43m \u001b[49m\u001b[38;5;28;43;01melse\u001b[39;49;00m\u001b[43m \u001b[49m\u001b[38;5;28;43;01mNone\u001b[39;49;00m\u001b[43m,\u001b[49m\n\u001b[0;32m    637\u001b[0m \u001b[43m                \u001b[49m\u001b[38;5;241;43m*\u001b[39;49m\u001b[38;5;241;43m*\u001b[39;49m\u001b[43mkwargs\u001b[49m\u001b[43m,\u001b[49m\n\u001b[0;32m    638\u001b[0m \u001b[43m            \u001b[49m\u001b[43m)\u001b[49m\n\u001b[0;32m    639\u001b[0m         )\n\u001b[0;32m    640\u001b[0m     \u001b[38;5;28;01mexcept\u001b[39;00m \u001b[38;5;167;01mBaseException\u001b[39;00m \u001b[38;5;28;01mas\u001b[39;00m e:\n\u001b[0;32m    641\u001b[0m         \u001b[38;5;28;01mif\u001b[39;00m run_managers:\n",
      "File \u001b[1;32mc:\\Users\\rapha\\OpenVAS_Copilot\\.venv\\Lib\\site-packages\\langchain_core\\language_models\\chat_models.py:851\u001b[0m, in \u001b[0;36mBaseChatModel._generate_with_cache\u001b[1;34m(self, messages, stop, run_manager, **kwargs)\u001b[0m\n\u001b[0;32m    849\u001b[0m \u001b[38;5;28;01melse\u001b[39;00m:\n\u001b[0;32m    850\u001b[0m     \u001b[38;5;28;01mif\u001b[39;00m inspect\u001b[38;5;241m.\u001b[39msignature(\u001b[38;5;28mself\u001b[39m\u001b[38;5;241m.\u001b[39m_generate)\u001b[38;5;241m.\u001b[39mparameters\u001b[38;5;241m.\u001b[39mget(\u001b[38;5;124m\"\u001b[39m\u001b[38;5;124mrun_manager\u001b[39m\u001b[38;5;124m\"\u001b[39m):\n\u001b[1;32m--> 851\u001b[0m         result \u001b[38;5;241m=\u001b[39m \u001b[38;5;28;43mself\u001b[39;49m\u001b[38;5;241;43m.\u001b[39;49m\u001b[43m_generate\u001b[49m\u001b[43m(\u001b[49m\n\u001b[0;32m    852\u001b[0m \u001b[43m            \u001b[49m\u001b[43mmessages\u001b[49m\u001b[43m,\u001b[49m\u001b[43m \u001b[49m\u001b[43mstop\u001b[49m\u001b[38;5;241;43m=\u001b[39;49m\u001b[43mstop\u001b[49m\u001b[43m,\u001b[49m\u001b[43m \u001b[49m\u001b[43mrun_manager\u001b[49m\u001b[38;5;241;43m=\u001b[39;49m\u001b[43mrun_manager\u001b[49m\u001b[43m,\u001b[49m\u001b[43m \u001b[49m\u001b[38;5;241;43m*\u001b[39;49m\u001b[38;5;241;43m*\u001b[39;49m\u001b[43mkwargs\u001b[49m\n\u001b[0;32m    853\u001b[0m \u001b[43m        \u001b[49m\u001b[43m)\u001b[49m\n\u001b[0;32m    854\u001b[0m     \u001b[38;5;28;01melse\u001b[39;00m:\n\u001b[0;32m    855\u001b[0m         result \u001b[38;5;241m=\u001b[39m \u001b[38;5;28mself\u001b[39m\u001b[38;5;241m.\u001b[39m_generate(messages, stop\u001b[38;5;241m=\u001b[39mstop, \u001b[38;5;241m*\u001b[39m\u001b[38;5;241m*\u001b[39mkwargs)\n",
      "File \u001b[1;32mc:\\Users\\rapha\\OpenVAS_Copilot\\.venv\\Lib\\site-packages\\langchain_openai\\chat_models\\base.py:717\u001b[0m, in \u001b[0;36mBaseChatOpenAI._generate\u001b[1;34m(self, messages, stop, run_manager, **kwargs)\u001b[0m\n\u001b[0;32m    715\u001b[0m     generation_info \u001b[38;5;241m=\u001b[39m {\u001b[38;5;124m\"\u001b[39m\u001b[38;5;124mheaders\u001b[39m\u001b[38;5;124m\"\u001b[39m: \u001b[38;5;28mdict\u001b[39m(raw_response\u001b[38;5;241m.\u001b[39mheaders)}\n\u001b[0;32m    716\u001b[0m \u001b[38;5;28;01melse\u001b[39;00m:\n\u001b[1;32m--> 717\u001b[0m     response \u001b[38;5;241m=\u001b[39m \u001b[38;5;28;43mself\u001b[39;49m\u001b[38;5;241;43m.\u001b[39;49m\u001b[43mclient\u001b[49m\u001b[38;5;241;43m.\u001b[39;49m\u001b[43mcreate\u001b[49m\u001b[43m(\u001b[49m\u001b[38;5;241;43m*\u001b[39;49m\u001b[38;5;241;43m*\u001b[39;49m\u001b[43mpayload\u001b[49m\u001b[43m)\u001b[49m\n\u001b[0;32m    718\u001b[0m \u001b[38;5;28;01mreturn\u001b[39;00m \u001b[38;5;28mself\u001b[39m\u001b[38;5;241m.\u001b[39m_create_chat_result(response, generation_info)\n",
      "File \u001b[1;32mc:\\Users\\rapha\\OpenVAS_Copilot\\.venv\\Lib\\site-packages\\openai\\_utils\\_utils.py:275\u001b[0m, in \u001b[0;36mrequired_args.<locals>.inner.<locals>.wrapper\u001b[1;34m(*args, **kwargs)\u001b[0m\n\u001b[0;32m    273\u001b[0m             msg \u001b[38;5;241m=\u001b[39m \u001b[38;5;124mf\u001b[39m\u001b[38;5;124m\"\u001b[39m\u001b[38;5;124mMissing required argument: \u001b[39m\u001b[38;5;132;01m{\u001b[39;00mquote(missing[\u001b[38;5;241m0\u001b[39m])\u001b[38;5;132;01m}\u001b[39;00m\u001b[38;5;124m\"\u001b[39m\n\u001b[0;32m    274\u001b[0m     \u001b[38;5;28;01mraise\u001b[39;00m \u001b[38;5;167;01mTypeError\u001b[39;00m(msg)\n\u001b[1;32m--> 275\u001b[0m \u001b[38;5;28;01mreturn\u001b[39;00m \u001b[43mfunc\u001b[49m\u001b[43m(\u001b[49m\u001b[38;5;241;43m*\u001b[39;49m\u001b[43margs\u001b[49m\u001b[43m,\u001b[49m\u001b[43m \u001b[49m\u001b[38;5;241;43m*\u001b[39;49m\u001b[38;5;241;43m*\u001b[39;49m\u001b[43mkwargs\u001b[49m\u001b[43m)\u001b[49m\n",
      "File \u001b[1;32mc:\\Users\\rapha\\OpenVAS_Copilot\\.venv\\Lib\\site-packages\\openai\\resources\\chat\\completions.py:859\u001b[0m, in \u001b[0;36mCompletions.create\u001b[1;34m(self, messages, model, audio, frequency_penalty, function_call, functions, logit_bias, logprobs, max_completion_tokens, max_tokens, metadata, modalities, n, parallel_tool_calls, prediction, presence_penalty, reasoning_effort, response_format, seed, service_tier, stop, store, stream, stream_options, temperature, tool_choice, tools, top_logprobs, top_p, user, extra_headers, extra_query, extra_body, timeout)\u001b[0m\n\u001b[0;32m    817\u001b[0m \u001b[38;5;129m@required_args\u001b[39m([\u001b[38;5;124m\"\u001b[39m\u001b[38;5;124mmessages\u001b[39m\u001b[38;5;124m\"\u001b[39m, \u001b[38;5;124m\"\u001b[39m\u001b[38;5;124mmodel\u001b[39m\u001b[38;5;124m\"\u001b[39m], [\u001b[38;5;124m\"\u001b[39m\u001b[38;5;124mmessages\u001b[39m\u001b[38;5;124m\"\u001b[39m, \u001b[38;5;124m\"\u001b[39m\u001b[38;5;124mmodel\u001b[39m\u001b[38;5;124m\"\u001b[39m, \u001b[38;5;124m\"\u001b[39m\u001b[38;5;124mstream\u001b[39m\u001b[38;5;124m\"\u001b[39m])\n\u001b[0;32m    818\u001b[0m \u001b[38;5;28;01mdef\u001b[39;00m \u001b[38;5;21mcreate\u001b[39m(\n\u001b[0;32m    819\u001b[0m     \u001b[38;5;28mself\u001b[39m,\n\u001b[1;32m   (...)\u001b[0m\n\u001b[0;32m    856\u001b[0m     timeout: \u001b[38;5;28mfloat\u001b[39m \u001b[38;5;241m|\u001b[39m httpx\u001b[38;5;241m.\u001b[39mTimeout \u001b[38;5;241m|\u001b[39m \u001b[38;5;28;01mNone\u001b[39;00m \u001b[38;5;241m|\u001b[39m NotGiven \u001b[38;5;241m=\u001b[39m NOT_GIVEN,\n\u001b[0;32m    857\u001b[0m ) \u001b[38;5;241m-\u001b[39m\u001b[38;5;241m>\u001b[39m ChatCompletion \u001b[38;5;241m|\u001b[39m Stream[ChatCompletionChunk]:\n\u001b[0;32m    858\u001b[0m     validate_response_format(response_format)\n\u001b[1;32m--> 859\u001b[0m     \u001b[38;5;28;01mreturn\u001b[39;00m \u001b[38;5;28;43mself\u001b[39;49m\u001b[38;5;241;43m.\u001b[39;49m\u001b[43m_post\u001b[49m\u001b[43m(\u001b[49m\n\u001b[0;32m    860\u001b[0m \u001b[43m        \u001b[49m\u001b[38;5;124;43m\"\u001b[39;49m\u001b[38;5;124;43m/chat/completions\u001b[39;49m\u001b[38;5;124;43m\"\u001b[39;49m\u001b[43m,\u001b[49m\n\u001b[0;32m    861\u001b[0m \u001b[43m        \u001b[49m\u001b[43mbody\u001b[49m\u001b[38;5;241;43m=\u001b[39;49m\u001b[43mmaybe_transform\u001b[49m\u001b[43m(\u001b[49m\n\u001b[0;32m    862\u001b[0m \u001b[43m            \u001b[49m\u001b[43m{\u001b[49m\n\u001b[0;32m    863\u001b[0m \u001b[43m                \u001b[49m\u001b[38;5;124;43m\"\u001b[39;49m\u001b[38;5;124;43mmessages\u001b[39;49m\u001b[38;5;124;43m\"\u001b[39;49m\u001b[43m:\u001b[49m\u001b[43m \u001b[49m\u001b[43mmessages\u001b[49m\u001b[43m,\u001b[49m\n\u001b[0;32m    864\u001b[0m \u001b[43m                \u001b[49m\u001b[38;5;124;43m\"\u001b[39;49m\u001b[38;5;124;43mmodel\u001b[39;49m\u001b[38;5;124;43m\"\u001b[39;49m\u001b[43m:\u001b[49m\u001b[43m \u001b[49m\u001b[43mmodel\u001b[49m\u001b[43m,\u001b[49m\n\u001b[0;32m    865\u001b[0m \u001b[43m                \u001b[49m\u001b[38;5;124;43m\"\u001b[39;49m\u001b[38;5;124;43maudio\u001b[39;49m\u001b[38;5;124;43m\"\u001b[39;49m\u001b[43m:\u001b[49m\u001b[43m \u001b[49m\u001b[43maudio\u001b[49m\u001b[43m,\u001b[49m\n\u001b[0;32m    866\u001b[0m \u001b[43m                \u001b[49m\u001b[38;5;124;43m\"\u001b[39;49m\u001b[38;5;124;43mfrequency_penalty\u001b[39;49m\u001b[38;5;124;43m\"\u001b[39;49m\u001b[43m:\u001b[49m\u001b[43m \u001b[49m\u001b[43mfrequency_penalty\u001b[49m\u001b[43m,\u001b[49m\n\u001b[0;32m    867\u001b[0m \u001b[43m                \u001b[49m\u001b[38;5;124;43m\"\u001b[39;49m\u001b[38;5;124;43mfunction_call\u001b[39;49m\u001b[38;5;124;43m\"\u001b[39;49m\u001b[43m:\u001b[49m\u001b[43m \u001b[49m\u001b[43mfunction_call\u001b[49m\u001b[43m,\u001b[49m\n\u001b[0;32m    868\u001b[0m \u001b[43m                \u001b[49m\u001b[38;5;124;43m\"\u001b[39;49m\u001b[38;5;124;43mfunctions\u001b[39;49m\u001b[38;5;124;43m\"\u001b[39;49m\u001b[43m:\u001b[49m\u001b[43m \u001b[49m\u001b[43mfunctions\u001b[49m\u001b[43m,\u001b[49m\n\u001b[0;32m    869\u001b[0m \u001b[43m                \u001b[49m\u001b[38;5;124;43m\"\u001b[39;49m\u001b[38;5;124;43mlogit_bias\u001b[39;49m\u001b[38;5;124;43m\"\u001b[39;49m\u001b[43m:\u001b[49m\u001b[43m \u001b[49m\u001b[43mlogit_bias\u001b[49m\u001b[43m,\u001b[49m\n\u001b[0;32m    870\u001b[0m \u001b[43m                \u001b[49m\u001b[38;5;124;43m\"\u001b[39;49m\u001b[38;5;124;43mlogprobs\u001b[39;49m\u001b[38;5;124;43m\"\u001b[39;49m\u001b[43m:\u001b[49m\u001b[43m \u001b[49m\u001b[43mlogprobs\u001b[49m\u001b[43m,\u001b[49m\n\u001b[0;32m    871\u001b[0m \u001b[43m                \u001b[49m\u001b[38;5;124;43m\"\u001b[39;49m\u001b[38;5;124;43mmax_completion_tokens\u001b[39;49m\u001b[38;5;124;43m\"\u001b[39;49m\u001b[43m:\u001b[49m\u001b[43m \u001b[49m\u001b[43mmax_completion_tokens\u001b[49m\u001b[43m,\u001b[49m\n\u001b[0;32m    872\u001b[0m \u001b[43m                \u001b[49m\u001b[38;5;124;43m\"\u001b[39;49m\u001b[38;5;124;43mmax_tokens\u001b[39;49m\u001b[38;5;124;43m\"\u001b[39;49m\u001b[43m:\u001b[49m\u001b[43m \u001b[49m\u001b[43mmax_tokens\u001b[49m\u001b[43m,\u001b[49m\n\u001b[0;32m    873\u001b[0m \u001b[43m                \u001b[49m\u001b[38;5;124;43m\"\u001b[39;49m\u001b[38;5;124;43mmetadata\u001b[39;49m\u001b[38;5;124;43m\"\u001b[39;49m\u001b[43m:\u001b[49m\u001b[43m \u001b[49m\u001b[43mmetadata\u001b[49m\u001b[43m,\u001b[49m\n\u001b[0;32m    874\u001b[0m \u001b[43m                \u001b[49m\u001b[38;5;124;43m\"\u001b[39;49m\u001b[38;5;124;43mmodalities\u001b[39;49m\u001b[38;5;124;43m\"\u001b[39;49m\u001b[43m:\u001b[49m\u001b[43m \u001b[49m\u001b[43mmodalities\u001b[49m\u001b[43m,\u001b[49m\n\u001b[0;32m    875\u001b[0m \u001b[43m                \u001b[49m\u001b[38;5;124;43m\"\u001b[39;49m\u001b[38;5;124;43mn\u001b[39;49m\u001b[38;5;124;43m\"\u001b[39;49m\u001b[43m:\u001b[49m\u001b[43m \u001b[49m\u001b[43mn\u001b[49m\u001b[43m,\u001b[49m\n\u001b[0;32m    876\u001b[0m \u001b[43m                \u001b[49m\u001b[38;5;124;43m\"\u001b[39;49m\u001b[38;5;124;43mparallel_tool_calls\u001b[39;49m\u001b[38;5;124;43m\"\u001b[39;49m\u001b[43m:\u001b[49m\u001b[43m \u001b[49m\u001b[43mparallel_tool_calls\u001b[49m\u001b[43m,\u001b[49m\n\u001b[0;32m    877\u001b[0m \u001b[43m                \u001b[49m\u001b[38;5;124;43m\"\u001b[39;49m\u001b[38;5;124;43mprediction\u001b[39;49m\u001b[38;5;124;43m\"\u001b[39;49m\u001b[43m:\u001b[49m\u001b[43m \u001b[49m\u001b[43mprediction\u001b[49m\u001b[43m,\u001b[49m\n\u001b[0;32m    878\u001b[0m \u001b[43m                \u001b[49m\u001b[38;5;124;43m\"\u001b[39;49m\u001b[38;5;124;43mpresence_penalty\u001b[39;49m\u001b[38;5;124;43m\"\u001b[39;49m\u001b[43m:\u001b[49m\u001b[43m \u001b[49m\u001b[43mpresence_penalty\u001b[49m\u001b[43m,\u001b[49m\n\u001b[0;32m    879\u001b[0m \u001b[43m                \u001b[49m\u001b[38;5;124;43m\"\u001b[39;49m\u001b[38;5;124;43mreasoning_effort\u001b[39;49m\u001b[38;5;124;43m\"\u001b[39;49m\u001b[43m:\u001b[49m\u001b[43m \u001b[49m\u001b[43mreasoning_effort\u001b[49m\u001b[43m,\u001b[49m\n\u001b[0;32m    880\u001b[0m \u001b[43m                \u001b[49m\u001b[38;5;124;43m\"\u001b[39;49m\u001b[38;5;124;43mresponse_format\u001b[39;49m\u001b[38;5;124;43m\"\u001b[39;49m\u001b[43m:\u001b[49m\u001b[43m \u001b[49m\u001b[43mresponse_format\u001b[49m\u001b[43m,\u001b[49m\n\u001b[0;32m    881\u001b[0m \u001b[43m                \u001b[49m\u001b[38;5;124;43m\"\u001b[39;49m\u001b[38;5;124;43mseed\u001b[39;49m\u001b[38;5;124;43m\"\u001b[39;49m\u001b[43m:\u001b[49m\u001b[43m \u001b[49m\u001b[43mseed\u001b[49m\u001b[43m,\u001b[49m\n\u001b[0;32m    882\u001b[0m \u001b[43m                \u001b[49m\u001b[38;5;124;43m\"\u001b[39;49m\u001b[38;5;124;43mservice_tier\u001b[39;49m\u001b[38;5;124;43m\"\u001b[39;49m\u001b[43m:\u001b[49m\u001b[43m \u001b[49m\u001b[43mservice_tier\u001b[49m\u001b[43m,\u001b[49m\n\u001b[0;32m    883\u001b[0m \u001b[43m                \u001b[49m\u001b[38;5;124;43m\"\u001b[39;49m\u001b[38;5;124;43mstop\u001b[39;49m\u001b[38;5;124;43m\"\u001b[39;49m\u001b[43m:\u001b[49m\u001b[43m \u001b[49m\u001b[43mstop\u001b[49m\u001b[43m,\u001b[49m\n\u001b[0;32m    884\u001b[0m \u001b[43m                \u001b[49m\u001b[38;5;124;43m\"\u001b[39;49m\u001b[38;5;124;43mstore\u001b[39;49m\u001b[38;5;124;43m\"\u001b[39;49m\u001b[43m:\u001b[49m\u001b[43m \u001b[49m\u001b[43mstore\u001b[49m\u001b[43m,\u001b[49m\n\u001b[0;32m    885\u001b[0m \u001b[43m                \u001b[49m\u001b[38;5;124;43m\"\u001b[39;49m\u001b[38;5;124;43mstream\u001b[39;49m\u001b[38;5;124;43m\"\u001b[39;49m\u001b[43m:\u001b[49m\u001b[43m \u001b[49m\u001b[43mstream\u001b[49m\u001b[43m,\u001b[49m\n\u001b[0;32m    886\u001b[0m \u001b[43m                \u001b[49m\u001b[38;5;124;43m\"\u001b[39;49m\u001b[38;5;124;43mstream_options\u001b[39;49m\u001b[38;5;124;43m\"\u001b[39;49m\u001b[43m:\u001b[49m\u001b[43m \u001b[49m\u001b[43mstream_options\u001b[49m\u001b[43m,\u001b[49m\n\u001b[0;32m    887\u001b[0m \u001b[43m                \u001b[49m\u001b[38;5;124;43m\"\u001b[39;49m\u001b[38;5;124;43mtemperature\u001b[39;49m\u001b[38;5;124;43m\"\u001b[39;49m\u001b[43m:\u001b[49m\u001b[43m \u001b[49m\u001b[43mtemperature\u001b[49m\u001b[43m,\u001b[49m\n\u001b[0;32m    888\u001b[0m \u001b[43m                \u001b[49m\u001b[38;5;124;43m\"\u001b[39;49m\u001b[38;5;124;43mtool_choice\u001b[39;49m\u001b[38;5;124;43m\"\u001b[39;49m\u001b[43m:\u001b[49m\u001b[43m \u001b[49m\u001b[43mtool_choice\u001b[49m\u001b[43m,\u001b[49m\n\u001b[0;32m    889\u001b[0m \u001b[43m                \u001b[49m\u001b[38;5;124;43m\"\u001b[39;49m\u001b[38;5;124;43mtools\u001b[39;49m\u001b[38;5;124;43m\"\u001b[39;49m\u001b[43m:\u001b[49m\u001b[43m \u001b[49m\u001b[43mtools\u001b[49m\u001b[43m,\u001b[49m\n\u001b[0;32m    890\u001b[0m \u001b[43m                \u001b[49m\u001b[38;5;124;43m\"\u001b[39;49m\u001b[38;5;124;43mtop_logprobs\u001b[39;49m\u001b[38;5;124;43m\"\u001b[39;49m\u001b[43m:\u001b[49m\u001b[43m \u001b[49m\u001b[43mtop_logprobs\u001b[49m\u001b[43m,\u001b[49m\n\u001b[0;32m    891\u001b[0m \u001b[43m                \u001b[49m\u001b[38;5;124;43m\"\u001b[39;49m\u001b[38;5;124;43mtop_p\u001b[39;49m\u001b[38;5;124;43m\"\u001b[39;49m\u001b[43m:\u001b[49m\u001b[43m \u001b[49m\u001b[43mtop_p\u001b[49m\u001b[43m,\u001b[49m\n\u001b[0;32m    892\u001b[0m \u001b[43m                \u001b[49m\u001b[38;5;124;43m\"\u001b[39;49m\u001b[38;5;124;43muser\u001b[39;49m\u001b[38;5;124;43m\"\u001b[39;49m\u001b[43m:\u001b[49m\u001b[43m \u001b[49m\u001b[43muser\u001b[49m\u001b[43m,\u001b[49m\n\u001b[0;32m    893\u001b[0m \u001b[43m            \u001b[49m\u001b[43m}\u001b[49m\u001b[43m,\u001b[49m\n\u001b[0;32m    894\u001b[0m \u001b[43m            \u001b[49m\u001b[43mcompletion_create_params\u001b[49m\u001b[38;5;241;43m.\u001b[39;49m\u001b[43mCompletionCreateParams\u001b[49m\u001b[43m,\u001b[49m\n\u001b[0;32m    895\u001b[0m \u001b[43m        \u001b[49m\u001b[43m)\u001b[49m\u001b[43m,\u001b[49m\n\u001b[0;32m    896\u001b[0m \u001b[43m        \u001b[49m\u001b[43moptions\u001b[49m\u001b[38;5;241;43m=\u001b[39;49m\u001b[43mmake_request_options\u001b[49m\u001b[43m(\u001b[49m\n\u001b[0;32m    897\u001b[0m \u001b[43m            \u001b[49m\u001b[43mextra_headers\u001b[49m\u001b[38;5;241;43m=\u001b[39;49m\u001b[43mextra_headers\u001b[49m\u001b[43m,\u001b[49m\u001b[43m \u001b[49m\u001b[43mextra_query\u001b[49m\u001b[38;5;241;43m=\u001b[39;49m\u001b[43mextra_query\u001b[49m\u001b[43m,\u001b[49m\u001b[43m \u001b[49m\u001b[43mextra_body\u001b[49m\u001b[38;5;241;43m=\u001b[39;49m\u001b[43mextra_body\u001b[49m\u001b[43m,\u001b[49m\u001b[43m \u001b[49m\u001b[43mtimeout\u001b[49m\u001b[38;5;241;43m=\u001b[39;49m\u001b[43mtimeout\u001b[49m\n\u001b[0;32m    898\u001b[0m \u001b[43m        \u001b[49m\u001b[43m)\u001b[49m\u001b[43m,\u001b[49m\n\u001b[0;32m    899\u001b[0m \u001b[43m        \u001b[49m\u001b[43mcast_to\u001b[49m\u001b[38;5;241;43m=\u001b[39;49m\u001b[43mChatCompletion\u001b[49m\u001b[43m,\u001b[49m\n\u001b[0;32m    900\u001b[0m \u001b[43m        \u001b[49m\u001b[43mstream\u001b[49m\u001b[38;5;241;43m=\u001b[39;49m\u001b[43mstream\u001b[49m\u001b[43m \u001b[49m\u001b[38;5;129;43;01mor\u001b[39;49;00m\u001b[43m \u001b[49m\u001b[38;5;28;43;01mFalse\u001b[39;49;00m\u001b[43m,\u001b[49m\n\u001b[0;32m    901\u001b[0m \u001b[43m        \u001b[49m\u001b[43mstream_cls\u001b[49m\u001b[38;5;241;43m=\u001b[39;49m\u001b[43mStream\u001b[49m\u001b[43m[\u001b[49m\u001b[43mChatCompletionChunk\u001b[49m\u001b[43m]\u001b[49m\u001b[43m,\u001b[49m\n\u001b[0;32m    902\u001b[0m \u001b[43m    \u001b[49m\u001b[43m)\u001b[49m\n",
      "File \u001b[1;32mc:\\Users\\rapha\\OpenVAS_Copilot\\.venv\\Lib\\site-packages\\openai\\_base_client.py:1280\u001b[0m, in \u001b[0;36mSyncAPIClient.post\u001b[1;34m(self, path, cast_to, body, options, files, stream, stream_cls)\u001b[0m\n\u001b[0;32m   1266\u001b[0m \u001b[38;5;28;01mdef\u001b[39;00m \u001b[38;5;21mpost\u001b[39m(\n\u001b[0;32m   1267\u001b[0m     \u001b[38;5;28mself\u001b[39m,\n\u001b[0;32m   1268\u001b[0m     path: \u001b[38;5;28mstr\u001b[39m,\n\u001b[1;32m   (...)\u001b[0m\n\u001b[0;32m   1275\u001b[0m     stream_cls: \u001b[38;5;28mtype\u001b[39m[_StreamT] \u001b[38;5;241m|\u001b[39m \u001b[38;5;28;01mNone\u001b[39;00m \u001b[38;5;241m=\u001b[39m \u001b[38;5;28;01mNone\u001b[39;00m,\n\u001b[0;32m   1276\u001b[0m ) \u001b[38;5;241m-\u001b[39m\u001b[38;5;241m>\u001b[39m ResponseT \u001b[38;5;241m|\u001b[39m _StreamT:\n\u001b[0;32m   1277\u001b[0m     opts \u001b[38;5;241m=\u001b[39m FinalRequestOptions\u001b[38;5;241m.\u001b[39mconstruct(\n\u001b[0;32m   1278\u001b[0m         method\u001b[38;5;241m=\u001b[39m\u001b[38;5;124m\"\u001b[39m\u001b[38;5;124mpost\u001b[39m\u001b[38;5;124m\"\u001b[39m, url\u001b[38;5;241m=\u001b[39mpath, json_data\u001b[38;5;241m=\u001b[39mbody, files\u001b[38;5;241m=\u001b[39mto_httpx_files(files), \u001b[38;5;241m*\u001b[39m\u001b[38;5;241m*\u001b[39moptions\n\u001b[0;32m   1279\u001b[0m     )\n\u001b[1;32m-> 1280\u001b[0m     \u001b[38;5;28;01mreturn\u001b[39;00m cast(ResponseT, \u001b[38;5;28;43mself\u001b[39;49m\u001b[38;5;241;43m.\u001b[39;49m\u001b[43mrequest\u001b[49m\u001b[43m(\u001b[49m\u001b[43mcast_to\u001b[49m\u001b[43m,\u001b[49m\u001b[43m \u001b[49m\u001b[43mopts\u001b[49m\u001b[43m,\u001b[49m\u001b[43m \u001b[49m\u001b[43mstream\u001b[49m\u001b[38;5;241;43m=\u001b[39;49m\u001b[43mstream\u001b[49m\u001b[43m,\u001b[49m\u001b[43m \u001b[49m\u001b[43mstream_cls\u001b[49m\u001b[38;5;241;43m=\u001b[39;49m\u001b[43mstream_cls\u001b[49m\u001b[43m)\u001b[49m)\n",
      "File \u001b[1;32mc:\\Users\\rapha\\OpenVAS_Copilot\\.venv\\Lib\\site-packages\\openai\\_base_client.py:957\u001b[0m, in \u001b[0;36mSyncAPIClient.request\u001b[1;34m(self, cast_to, options, remaining_retries, stream, stream_cls)\u001b[0m\n\u001b[0;32m    954\u001b[0m \u001b[38;5;28;01melse\u001b[39;00m:\n\u001b[0;32m    955\u001b[0m     retries_taken \u001b[38;5;241m=\u001b[39m \u001b[38;5;241m0\u001b[39m\n\u001b[1;32m--> 957\u001b[0m \u001b[38;5;28;01mreturn\u001b[39;00m \u001b[38;5;28;43mself\u001b[39;49m\u001b[38;5;241;43m.\u001b[39;49m\u001b[43m_request\u001b[49m\u001b[43m(\u001b[49m\n\u001b[0;32m    958\u001b[0m \u001b[43m    \u001b[49m\u001b[43mcast_to\u001b[49m\u001b[38;5;241;43m=\u001b[39;49m\u001b[43mcast_to\u001b[49m\u001b[43m,\u001b[49m\n\u001b[0;32m    959\u001b[0m \u001b[43m    \u001b[49m\u001b[43moptions\u001b[49m\u001b[38;5;241;43m=\u001b[39;49m\u001b[43moptions\u001b[49m\u001b[43m,\u001b[49m\n\u001b[0;32m    960\u001b[0m \u001b[43m    \u001b[49m\u001b[43mstream\u001b[49m\u001b[38;5;241;43m=\u001b[39;49m\u001b[43mstream\u001b[49m\u001b[43m,\u001b[49m\n\u001b[0;32m    961\u001b[0m \u001b[43m    \u001b[49m\u001b[43mstream_cls\u001b[49m\u001b[38;5;241;43m=\u001b[39;49m\u001b[43mstream_cls\u001b[49m\u001b[43m,\u001b[49m\n\u001b[0;32m    962\u001b[0m \u001b[43m    \u001b[49m\u001b[43mretries_taken\u001b[49m\u001b[38;5;241;43m=\u001b[39;49m\u001b[43mretries_taken\u001b[49m\u001b[43m,\u001b[49m\n\u001b[0;32m    963\u001b[0m \u001b[43m\u001b[49m\u001b[43m)\u001b[49m\n",
      "File \u001b[1;32mc:\\Users\\rapha\\OpenVAS_Copilot\\.venv\\Lib\\site-packages\\openai\\_base_client.py:1061\u001b[0m, in \u001b[0;36mSyncAPIClient._request\u001b[1;34m(self, cast_to, options, retries_taken, stream, stream_cls)\u001b[0m\n\u001b[0;32m   1058\u001b[0m         err\u001b[38;5;241m.\u001b[39mresponse\u001b[38;5;241m.\u001b[39mread()\n\u001b[0;32m   1060\u001b[0m     log\u001b[38;5;241m.\u001b[39mdebug(\u001b[38;5;124m\"\u001b[39m\u001b[38;5;124mRe-raising status error\u001b[39m\u001b[38;5;124m\"\u001b[39m)\n\u001b[1;32m-> 1061\u001b[0m     \u001b[38;5;28;01mraise\u001b[39;00m \u001b[38;5;28mself\u001b[39m\u001b[38;5;241m.\u001b[39m_make_status_error_from_response(err\u001b[38;5;241m.\u001b[39mresponse) \u001b[38;5;28;01mfrom\u001b[39;00m \u001b[38;5;28;01mNone\u001b[39;00m\n\u001b[0;32m   1063\u001b[0m \u001b[38;5;28;01mreturn\u001b[39;00m \u001b[38;5;28mself\u001b[39m\u001b[38;5;241m.\u001b[39m_process_response(\n\u001b[0;32m   1064\u001b[0m     cast_to\u001b[38;5;241m=\u001b[39mcast_to,\n\u001b[0;32m   1065\u001b[0m     options\u001b[38;5;241m=\u001b[39moptions,\n\u001b[1;32m   (...)\u001b[0m\n\u001b[0;32m   1069\u001b[0m     retries_taken\u001b[38;5;241m=\u001b[39mretries_taken,\n\u001b[0;32m   1070\u001b[0m )\n",
      "\u001b[1;31mAuthenticationError\u001b[0m: Error code: 401 - {'error': {'message': 'Incorrect API key provided: sk-proj-********************************************************************************************************************************************************GuYA. You can find your API key at https://platform.openai.com/account/api-keys.', 'type': 'invalid_request_error', 'param': None, 'code': 'invalid_api_key'}}"
     ]
    }
   ],
   "source": [
    "res = chat.invoke(messages)"
   ]
  },
  {
   "cell_type": "code",
   "execution_count": 48,
   "metadata": {},
   "outputs": [
    {
     "data": {
      "text/plain": [
       "AIMessage(content='Priorizar ações de mitigação pode ser feito seguindo algumas diretrizes:\\n\\n1. **Classificação da Vulnerabilidade**: Utilize a classificação CVSS (Common Vulnerability Scoring System) para entender a severidade das vulnerabilidades identificadas. As vulnerabilidades com pontuação mais alta (geralmente acima de 7) devem ser tratadas primeiro.\\n\\n2. **Impacto nos Negócios**: Avalie o impacto que a exploração da vulnerabilidade poderia ter nos ativos críticos da sua organização. Vulnerabilidades que afetam sistemas essenciais ou dados sensíveis devem ser priorizadas.\\n\\n3. **Exposição**: Considere a acessibilidade da vulnerabilidade. Vulnerabilidades em sistemas expostos à internet ou em redes de fácil acesso devem ser tratadas com urgência.\\n\\n4. **Facilidade de Exploração**: Avalie a facilidade com que um invasor poderia explorar a vulnerabilidade. Vulnerabilidades que podem ser exploradas sem muita habilidade técnica devem ser priorizadas.\\n\\n5. **Tempo de Exposição**: Se uma vulnerabilidade foi divulgada recentemente e já existem exploits conhecidos, trate-a imediatamente.\\n\\n6. **Conformidade e Regulações**: Considere requisitos de conformidade que possam exigir que certas vulnerabilidades sejam corrigidas dentro de prazos específicos.\\n\\n7. **Recursos e Custos**: Avalie os recursos disponíveis para mitigar as vulnerabilidades e os custos associados. Algumas ações podem ser mais dispendiosas ou complexas do que outras.\\n\\n8. **Planos de Mitigação**: Crie um plano para corrigir as vulnerabilidades, priorizando aquelas que oferecem o maior risco e impacto. \\n\\nAo seguir essas diretrizes, você pode criar uma abordagem estruturada para abordar as vulnerabilidades de maneira eficaz e eficiente.', additional_kwargs={'refusal': None}, response_metadata={'token_usage': {'completion_tokens': 356, 'prompt_tokens': 146, 'total_tokens': 502, 'completion_tokens_details': {'accepted_prediction_tokens': 0, 'audio_tokens': 0, 'reasoning_tokens': 0, 'rejected_prediction_tokens': 0}, 'prompt_tokens_details': {'audio_tokens': 0, 'cached_tokens': 0}}, 'model_name': 'gpt-4o-mini-2024-07-18', 'system_fingerprint': 'fp_d02d531b47', 'finish_reason': 'stop', 'logprobs': None}, id='run-0d3048e1-c9d7-49ac-a76d-21e134f201f3-0', usage_metadata={'input_tokens': 146, 'output_tokens': 356, 'total_tokens': 502, 'input_token_details': {'audio': 0, 'cache_read': 0}, 'output_token_details': {'audio': 0, 'reasoning': 0}})"
      ]
     },
     "execution_count": 48,
     "metadata": {},
     "output_type": "execute_result"
    }
   ],
   "source": [
    "res"
   ]
  },
  {
   "cell_type": "code",
   "execution_count": 49,
   "metadata": {},
   "outputs": [
    {
     "name": "stdout",
     "output_type": "stream",
     "text": [
      "Priorizar ações de mitigação pode ser feito seguindo algumas diretrizes:\n",
      "\n",
      "1. **Classificação da Vulnerabilidade**: Utilize a classificação CVSS (Common Vulnerability Scoring System) para entender a severidade das vulnerabilidades identificadas. As vulnerabilidades com pontuação mais alta (geralmente acima de 7) devem ser tratadas primeiro.\n",
      "\n",
      "2. **Impacto nos Negócios**: Avalie o impacto que a exploração da vulnerabilidade poderia ter nos ativos críticos da sua organização. Vulnerabilidades que afetam sistemas essenciais ou dados sensíveis devem ser priorizadas.\n",
      "\n",
      "3. **Exposição**: Considere a acessibilidade da vulnerabilidade. Vulnerabilidades em sistemas expostos à internet ou em redes de fácil acesso devem ser tratadas com urgência.\n",
      "\n",
      "4. **Facilidade de Exploração**: Avalie a facilidade com que um invasor poderia explorar a vulnerabilidade. Vulnerabilidades que podem ser exploradas sem muita habilidade técnica devem ser priorizadas.\n",
      "\n",
      "5. **Tempo de Exposição**: Se uma vulnerabilidade foi divulgada recentemente e já existem exploits conhecidos, trate-a imediatamente.\n",
      "\n",
      "6. **Conformidade e Regulações**: Considere requisitos de conformidade que possam exigir que certas vulnerabilidades sejam corrigidas dentro de prazos específicos.\n",
      "\n",
      "7. **Recursos e Custos**: Avalie os recursos disponíveis para mitigar as vulnerabilidades e os custos associados. Algumas ações podem ser mais dispendiosas ou complexas do que outras.\n",
      "\n",
      "8. **Planos de Mitigação**: Crie um plano para corrigir as vulnerabilidades, priorizando aquelas que oferecem o maior risco e impacto. \n",
      "\n",
      "Ao seguir essas diretrizes, você pode criar uma abordagem estruturada para abordar as vulnerabilidades de maneira eficaz e eficiente.\n"
     ]
    }
   ],
   "source": [
    "print(res.content)"
   ]
  },
  {
   "cell_type": "code",
   "execution_count": 50,
   "metadata": {},
   "outputs": [],
   "source": [
    "messages.append(res)"
   ]
  },
  {
   "cell_type": "code",
   "execution_count": 51,
   "metadata": {},
   "outputs": [
    {
     "data": {
      "text/plain": [
       "[SystemMessage(content='Você é um assistente especializado em segurança cibernética, com foco em análises do OpenVAS. Sua função é ajudar a interpretar relatórios, identificar vulnerabilidades e recomendar ações de mitigação.', additional_kwargs={}, response_metadata={}),\n",
       " HumanMessage(content='Quais são as vulnerabilidades críticas mais comuns encontradas nos relatórios do OpenVAS?', additional_kwargs={}, response_metadata={}),\n",
       " AIMessage(content='As vulnerabilidades críticas mais comuns incluem falta de patches em sistemas, autenticação fraca, exposição de serviços desnecessários, e uso de softwares desatualizados. Você pode mitigá-las mantendo os sistemas atualizados, implementando autenticação forte e desativando serviços desnecessários.', additional_kwargs={}, response_metadata={}),\n",
       " HumanMessage(content='Como posso priorizar as ações de mitigação?', additional_kwargs={}, response_metadata={}),\n",
       " AIMessage(content='Priorizar ações de mitigação pode ser feito seguindo algumas diretrizes:\\n\\n1. **Classificação da Vulnerabilidade**: Utilize a classificação CVSS (Common Vulnerability Scoring System) para entender a severidade das vulnerabilidades identificadas. As vulnerabilidades com pontuação mais alta (geralmente acima de 7) devem ser tratadas primeiro.\\n\\n2. **Impacto nos Negócios**: Avalie o impacto que a exploração da vulnerabilidade poderia ter nos ativos críticos da sua organização. Vulnerabilidades que afetam sistemas essenciais ou dados sensíveis devem ser priorizadas.\\n\\n3. **Exposição**: Considere a acessibilidade da vulnerabilidade. Vulnerabilidades em sistemas expostos à internet ou em redes de fácil acesso devem ser tratadas com urgência.\\n\\n4. **Facilidade de Exploração**: Avalie a facilidade com que um invasor poderia explorar a vulnerabilidade. Vulnerabilidades que podem ser exploradas sem muita habilidade técnica devem ser priorizadas.\\n\\n5. **Tempo de Exposição**: Se uma vulnerabilidade foi divulgada recentemente e já existem exploits conhecidos, trate-a imediatamente.\\n\\n6. **Conformidade e Regulações**: Considere requisitos de conformidade que possam exigir que certas vulnerabilidades sejam corrigidas dentro de prazos específicos.\\n\\n7. **Recursos e Custos**: Avalie os recursos disponíveis para mitigar as vulnerabilidades e os custos associados. Algumas ações podem ser mais dispendiosas ou complexas do que outras.\\n\\n8. **Planos de Mitigação**: Crie um plano para corrigir as vulnerabilidades, priorizando aquelas que oferecem o maior risco e impacto. \\n\\nAo seguir essas diretrizes, você pode criar uma abordagem estruturada para abordar as vulnerabilidades de maneira eficaz e eficiente.', additional_kwargs={'refusal': None}, response_metadata={'token_usage': {'completion_tokens': 356, 'prompt_tokens': 146, 'total_tokens': 502, 'completion_tokens_details': {'accepted_prediction_tokens': 0, 'audio_tokens': 0, 'reasoning_tokens': 0, 'rejected_prediction_tokens': 0}, 'prompt_tokens_details': {'audio_tokens': 0, 'cached_tokens': 0}}, 'model_name': 'gpt-4o-mini-2024-07-18', 'system_fingerprint': 'fp_d02d531b47', 'finish_reason': 'stop', 'logprobs': None}, id='run-0d3048e1-c9d7-49ac-a76d-21e134f201f3-0', usage_metadata={'input_tokens': 146, 'output_tokens': 356, 'total_tokens': 502, 'input_token_details': {'audio': 0, 'cache_read': 0}, 'output_token_details': {'audio': 0, 'reasoning': 0}})]"
      ]
     },
     "execution_count": 51,
     "metadata": {},
     "output_type": "execute_result"
    }
   ],
   "source": [
    "messages"
   ]
  },
  {
   "cell_type": "code",
   "execution_count": 52,
   "metadata": {},
   "outputs": [],
   "source": [
    "prompt = HumanMessage(content=\"Você poderia me explicar como funciona o OpenVAS?\")\n",
    "messages.append(prompt)"
   ]
  },
  {
   "cell_type": "code",
   "execution_count": 53,
   "metadata": {},
   "outputs": [
    {
     "name": "stdout",
     "output_type": "stream",
     "text": [
      "Claro! O OpenVAS (Open Vulnerability Assessment System) é uma ferramenta de código aberto projetada para realizar varreduras de vulnerabilidades em sistemas e redes. Aqui está uma visão geral de como ele funciona:\n",
      "\n",
      "### Componentes Principais:\n",
      "\n",
      "1. **OpenVAS Scanner**: Este é o componente que realiza as varreduras efetivas nos hosts. Ele executa testes para identificar vulnerabilidades conhecidas.\n",
      "\n",
      "2. **OpenVAS Manager**: É responsável pela gestão das configurações das varreduras, armazenamento dos resultados e interação com o scanner. Ele gerencia as tarefas de varredura e mantém um banco de dados das vulnerabilidades identificadas.\n",
      "\n",
      "3. **Greenbone Security Assistant (GSA)**: Esta é a interface web que permite aos usuários interagir com o OpenVAS. Através do GSA, você pode configurar varreduras, visualizar resultados e gerar relatórios.\n",
      "\n",
      "### Funcionamento:\n",
      "\n",
      "1. **Configuração**: O usuário define as configurações de varredura, como quais alvos (hosts) serão analisados, quais plugins específicos de vulnerabilidade serão utilizados e quais credenciais (se necessário) serão usadas para varreduras autenticadas.\n",
      "\n",
      "2. **Execução da Varredura**: O OpenVAS Scanner se conecta aos hosts definidos e executa uma série de testes de vulnerabilidade. Isso pode incluir a verificação de serviços em execução, configurações de segurança, software desatualizado, entre outros.\n",
      "\n",
      "3. **Identificação de Vulnerabilidades**: Durante a varredura, o OpenVAS compara os resultados com uma base de dados de vulnerabilidades conhecidas (usando o formato de plugins do OpenVAS). Cada teste pode resultar em uma identificação de vulnerabilidade com sua gravidade, descrição e recomendações de mitigação.\n",
      "\n",
      "4. **Relatórios**: Após a conclusão da varredura, os resultados são armazenados no OpenVAS Manager. Os usuários podem acessar esses resultados através do GSA, onde podem visualizar detalhes sobre cada vulnerabilidade, gerar relatórios e exportar os dados em vários formatos (PDF, CSV, etc.).\n",
      "\n",
      "5. **Atualizações**: O OpenVAS é atualizado regularmente com novos plugins e definições de vulnerabilidades, permitindo que ele identifique ameaças emergentes.\n",
      "\n",
      "### Uso Prático:\n",
      "\n",
      "- **Auditorias de Segurança**: Para identificar e remediar vulnerabilidades em sistemas e redes.\n",
      "- **Conformidade**: Para atender a requisitos de segurança e conformidade regulatória.\n",
      "- **Teste de Penetração**: Como parte de uma abordagem mais ampla de teste de segurança.\n",
      "\n",
      "O OpenVAS é uma ferramenta poderosa para a gestão de vulnerabilidades, e seu uso regular pode ajudar a melhorar a postura de segurança de uma organização.\n"
     ]
    }
   ],
   "source": [
    "res = chat.invoke(messages)\n",
    "print(res.content)"
   ]
  },
  {
   "cell_type": "code",
   "execution_count": 54,
   "metadata": {},
   "outputs": [],
   "source": [
    "import pandas as pd\n",
    "df = pd.read_csv('data/miniopenvas.csv')\n"
   ]
  },
  {
   "cell_type": "code",
   "execution_count": 55,
   "metadata": {},
   "outputs": [],
   "source": [
    "context = [\n",
    "    \"Aqui está um exemplo de relatório do OpenVAS:\",\n",
    "    df.to_string(index=False),\n",
    "    \"Quero que você me ajude a interpretar este relatório e identificar as vulnerabilidades críticas.\"\n",
    "]\n",
    "\n",
    "source_knowledge = \"\\n\".join(context)"
   ]
  },
  {
   "cell_type": "code",
   "execution_count": 58,
   "metadata": {},
   "outputs": [],
   "source": [
    "query = \"Quero que me ajude a interpretar este relatório e identificar as vulnerabilidades mais críticas e sugerir a priorizar a mitigação das vulnerabilidades mais critivas.\"\n",
    "\n",
    "augmented_prompt = f\"\"\"\n",
    "    Use o contexto abaixo para responder à seguinte pergunta:\n",
    "\n",
    "    Contexto: {source_knowledge}\n",
    "\n",
    "    Pergunta: {query}\n",
    "\n",
    "    Boa prática: não forneça o endereço IP ou nome do host do sistema nas respostas\n",
    "\"\"\""
   ]
  },
  {
   "cell_type": "code",
   "execution_count": 59,
   "metadata": {},
   "outputs": [
    {
     "name": "stdout",
     "output_type": "stream",
     "text": [
      "Vamos analisar o relatório apresentado:\n",
      "\n",
      "1. **Informações Gerais**:\n",
      "   - **CVSS Severity**: A gravidade é classificada como \"Low\" (2.1), indicando que a vulnerabilidade não é crítica.\n",
      "   - **NVT Name**: \"ICMP Timestamp Reply Information Disclosure\", o que sugere que a vulnerabilidade está relacionada ao vazamento de informações através de respostas a requisições ICMP.\n",
      "\n",
      "2. **Detalhes da Vulnerabilidade**:\n",
      "   - A vulnerabilidade permite que um host responda a uma solicitação de timestamp ICMP, o que pode ser utilizado para explorar geradores de números aleatórios baseados em tempo em outros serviços.\n",
      "   - O relatório menciona que essa informação pode ser usada teoricamente para explorar fraquezas em serviços que dependem de números aleatórios.\n",
      "\n",
      "3. **Soluções Sugeridas**:\n",
      "   - **Desativar o suporte para ICMP timestamp**: Isso deve ser feito no host afetado para evitar que ele responda a essas requisições.\n",
      "   - **Proteger o host com um firewall**: É recomendado bloquear pacotes ICMP que passam pelo firewall, especialmente em redes não confiáveis.\n",
      "\n",
      "4. **Impacto**:\n",
      "   - Embora a vulnerabilidade tenha um impacto potencial, o nível de severidade é considerado baixo, o que significa que, embora a mitigação seja recomendada, não é uma prioridade imediata em comparação com vulnerabilidades críticas.\n",
      "\n",
      "### Identificação de Vulnerabilidades Críticas\n",
      "\n",
      "Neste relatório específico, não há vulnerabilidades críticas identificadas, uma vez que a gravidade é baixa. Para a priorização de mitigação, considere os seguintes passos:\n",
      "\n",
      "- **Priorizar Vulnerabilidades Críticas**: Se houver outros relatórios ou partes do sistema com vulnerabilidades com pontuação CVSS maior ou que representem um maior risco (como acessibilidade na internet, sistemas críticos, etc.), essas devem ser tratadas primeiro.\n",
      "  \n",
      "- **Mitigação da Vulnerabilidade Atual**: Embora a vulnerabilidade identificada não seja crítica, recomenda-se a implementação das soluções sugeridas para mitigar qualquer risco potencial, especialmente se o sistema estiver em um ambiente onde a segurança é uma preocupação elevada.\n",
      "\n",
      "- **Monitoramento Contíno**: Continue a realizar escaneamentos regulares com o OpenVAS para identificar novas vulnerabilidades que possam surgir e que possam ser mais críticas.\n",
      "\n",
      "### Conclusão\n",
      "\n",
      "Neste caso específico, não há vulnerabilidades críticas a serem tratadas com urgência. No entanto, a mitigação da vulnerabilidade identificada deve ser realizada para garantir a segurança geral do sistema. Se você tiver outros relatórios do OpenVAS ou informações sobre vulnerabilidades adicionais, posso ajudar a analisá-los e priorizá-los.\n"
     ]
    }
   ],
   "source": [
    "prompt = HumanMessage(content=augmented_prompt)\n",
    "\n",
    "messages.append(prompt)\n",
    "\n",
    "res = chat.invoke(messages, )\n",
    "print(res.content)"
   ]
  },
  {
   "cell_type": "markdown",
   "metadata": {},
   "source": [
    "Embeddings"
   ]
  },
  {
   "cell_type": "code",
   "execution_count": 64,
   "metadata": {},
   "outputs": [],
   "source": [
    "data = pd.read_csv('data/openvas.csv')"
   ]
  },
  {
   "cell_type": "code",
   "execution_count": 65,
   "metadata": {},
   "outputs": [],
   "source": [
    "from langchain_openai import OpenAIEmbeddings\n",
    "embed_model = OpenAIEmbeddings(model=\"text-embedding-3-small\")"
   ]
  },
  {
   "cell_type": "code",
   "execution_count": 66,
   "metadata": {},
   "outputs": [
    {
     "data": {
      "text/plain": [
       "(2, 1536)"
      ]
     },
     "execution_count": 66,
     "metadata": {},
     "output_type": "execute_result"
    }
   ],
   "source": [
    "texts = [\n",
    "    'this is a test',\n",
    "    'this is another test',\n",
    "]\n",
    "\n",
    "res = embed_model.embed_documents(texts)\n",
    "len(res), len(res[0])\n"
   ]
  },
  {
   "cell_type": "code",
   "execution_count": 74,
   "metadata": {},
   "outputs": [
    {
     "data": {
      "text/html": [
       "<div>\n",
       "<style scoped>\n",
       "    .dataframe tbody tr th:only-of-type {\n",
       "        vertical-align: middle;\n",
       "    }\n",
       "\n",
       "    .dataframe tbody tr th {\n",
       "        vertical-align: top;\n",
       "    }\n",
       "\n",
       "    .dataframe thead th {\n",
       "        text-align: right;\n",
       "    }\n",
       "</style>\n",
       "<table border=\"1\" class=\"dataframe\">\n",
       "  <thead>\n",
       "    <tr style=\"text-align: right;\">\n",
       "      <th></th>\n",
       "      <th>Port</th>\n",
       "      <th>Port Protocol</th>\n",
       "      <th>CVSS</th>\n",
       "      <th>Severity</th>\n",
       "      <th>QoD</th>\n",
       "      <th>Solution Type</th>\n",
       "      <th>NVT Name</th>\n",
       "      <th>Summary</th>\n",
       "      <th>Specific Result</th>\n",
       "      <th>NVT OID</th>\n",
       "      <th>CVEs</th>\n",
       "      <th>Impact</th>\n",
       "      <th>Solution</th>\n",
       "      <th>Affected Software/OS</th>\n",
       "      <th>Vulnerability Insight</th>\n",
       "      <th>Vulnerability Detection Method</th>\n",
       "      <th>Product Detection Result</th>\n",
       "    </tr>\n",
       "  </thead>\n",
       "  <tbody>\n",
       "    <tr>\n",
       "      <th>0</th>\n",
       "      <td>623.0</td>\n",
       "      <td>udp</td>\n",
       "      <td>10.0</td>\n",
       "      <td>High</td>\n",
       "      <td>99</td>\n",
       "      <td>VendorFix</td>\n",
       "      <td>IPMI Cipher Zero Authentication Bypass Vulnera...</td>\n",
       "      <td>Intelligent Platform Management Interface (IPM...</td>\n",
       "      <td>The remote IPMI service accepted a session ope...</td>\n",
       "      <td>1.3.6.1.4.1.25623.1.0.103840</td>\n",
       "      <td>NaN</td>\n",
       "      <td>Attackers can exploit this issue to gain admin...</td>\n",
       "      <td>Ask the Vendor for an update.</td>\n",
       "      <td>NaN</td>\n",
       "      <td>The remote IPMI service accepted a session ope...</td>\n",
       "      <td>Sends a request with a zero cipher and checks ...</td>\n",
       "      <td>NaN</td>\n",
       "    </tr>\n",
       "    <tr>\n",
       "      <th>1</th>\n",
       "      <td>623.0</td>\n",
       "      <td>udp</td>\n",
       "      <td>10.0</td>\n",
       "      <td>High</td>\n",
       "      <td>99</td>\n",
       "      <td>VendorFix</td>\n",
       "      <td>IPMI Cipher Zero Authentication Bypass Vulnera...</td>\n",
       "      <td>Intelligent Platform Management Interface (IPM...</td>\n",
       "      <td>The remote IPMI service accepted a session ope...</td>\n",
       "      <td>1.3.6.1.4.1.25623.1.0.103840</td>\n",
       "      <td>NaN</td>\n",
       "      <td>Attackers can exploit this issue to gain admin...</td>\n",
       "      <td>Ask the Vendor for an update.</td>\n",
       "      <td>NaN</td>\n",
       "      <td>The remote IPMI service accepted a session ope...</td>\n",
       "      <td>Sends a request with a zero cipher and checks ...</td>\n",
       "      <td>NaN</td>\n",
       "    </tr>\n",
       "    <tr>\n",
       "      <th>2</th>\n",
       "      <td>NaN</td>\n",
       "      <td>NaN</td>\n",
       "      <td>10.0</td>\n",
       "      <td>High</td>\n",
       "      <td>80</td>\n",
       "      <td>Mitigation</td>\n",
       "      <td>Operating System (OS) End of Life (EOL) Detection</td>\n",
       "      <td>The Operating System (OS) on the remote host h...</td>\n",
       "      <td>The \"Ubuntu\" Operating System on the remote ho...</td>\n",
       "      <td>1.3.6.1.4.1.25623.1.0.103674</td>\n",
       "      <td>NaN</td>\n",
       "      <td>An EOL version of an OS is not receiving any s...</td>\n",
       "      <td>Upgrade the OS on the remote host to a version...</td>\n",
       "      <td>NaN</td>\n",
       "      <td>NaN</td>\n",
       "      <td>Checks if an EOL version of an OS is present o...</td>\n",
       "      <td>Product: cpe:/o:canonical:ubuntu_linux:12.04\\n...</td>\n",
       "    </tr>\n",
       "    <tr>\n",
       "      <th>3</th>\n",
       "      <td>NaN</td>\n",
       "      <td>NaN</td>\n",
       "      <td>10.0</td>\n",
       "      <td>High</td>\n",
       "      <td>80</td>\n",
       "      <td>Mitigation</td>\n",
       "      <td>Operating System (OS) End of Life (EOL) Detection</td>\n",
       "      <td>The Operating System (OS) on the remote host h...</td>\n",
       "      <td>The \"Ubuntu\" Operating System on the remote ho...</td>\n",
       "      <td>1.3.6.1.4.1.25623.1.0.103674</td>\n",
       "      <td>NaN</td>\n",
       "      <td>An EOL version of an OS is not receiving any s...</td>\n",
       "      <td>Upgrade the OS on the remote host to a version...</td>\n",
       "      <td>NaN</td>\n",
       "      <td>NaN</td>\n",
       "      <td>Checks if an EOL version of an OS is present o...</td>\n",
       "      <td>Product: cpe:/o:canonical:ubuntu_linux:12.04\\n...</td>\n",
       "    </tr>\n",
       "    <tr>\n",
       "      <th>4</th>\n",
       "      <td>623.0</td>\n",
       "      <td>udp</td>\n",
       "      <td>10.0</td>\n",
       "      <td>High</td>\n",
       "      <td>80</td>\n",
       "      <td>Workaround</td>\n",
       "      <td>IPMI No Auth Access Mode Enabled (IPMI Protocol)</td>\n",
       "      <td>The remote Intelligent Platform Management Int...</td>\n",
       "      <td>The remote IPMI service has the 'No Auth' acce...</td>\n",
       "      <td>1.3.6.1.4.1.25623.1.0.103837</td>\n",
       "      <td>NaN</td>\n",
       "      <td>NaN</td>\n",
       "      <td>Disable the 'No Auth' access mode. Please cont...</td>\n",
       "      <td>NaN</td>\n",
       "      <td>NaN</td>\n",
       "      <td>Evaluates information gathered by the VT 'Inte...</td>\n",
       "      <td>NaN</td>\n",
       "    </tr>\n",
       "  </tbody>\n",
       "</table>\n",
       "</div>"
      ],
      "text/plain": [
       "    Port Port Protocol  CVSS Severity  QoD Solution Type  \\\n",
       "0  623.0           udp  10.0     High   99     VendorFix   \n",
       "1  623.0           udp  10.0     High   99     VendorFix   \n",
       "2    NaN           NaN  10.0     High   80    Mitigation   \n",
       "3    NaN           NaN  10.0     High   80    Mitigation   \n",
       "4  623.0           udp  10.0     High   80    Workaround   \n",
       "\n",
       "                                            NVT Name  \\\n",
       "0  IPMI Cipher Zero Authentication Bypass Vulnera...   \n",
       "1  IPMI Cipher Zero Authentication Bypass Vulnera...   \n",
       "2  Operating System (OS) End of Life (EOL) Detection   \n",
       "3  Operating System (OS) End of Life (EOL) Detection   \n",
       "4   IPMI No Auth Access Mode Enabled (IPMI Protocol)   \n",
       "\n",
       "                                             Summary  \\\n",
       "0  Intelligent Platform Management Interface (IPM...   \n",
       "1  Intelligent Platform Management Interface (IPM...   \n",
       "2  The Operating System (OS) on the remote host h...   \n",
       "3  The Operating System (OS) on the remote host h...   \n",
       "4  The remote Intelligent Platform Management Int...   \n",
       "\n",
       "                                     Specific Result  \\\n",
       "0  The remote IPMI service accepted a session ope...   \n",
       "1  The remote IPMI service accepted a session ope...   \n",
       "2  The \"Ubuntu\" Operating System on the remote ho...   \n",
       "3  The \"Ubuntu\" Operating System on the remote ho...   \n",
       "4  The remote IPMI service has the 'No Auth' acce...   \n",
       "\n",
       "                        NVT OID CVEs  \\\n",
       "0  1.3.6.1.4.1.25623.1.0.103840  NaN   \n",
       "1  1.3.6.1.4.1.25623.1.0.103840  NaN   \n",
       "2  1.3.6.1.4.1.25623.1.0.103674  NaN   \n",
       "3  1.3.6.1.4.1.25623.1.0.103674  NaN   \n",
       "4  1.3.6.1.4.1.25623.1.0.103837  NaN   \n",
       "\n",
       "                                              Impact  \\\n",
       "0  Attackers can exploit this issue to gain admin...   \n",
       "1  Attackers can exploit this issue to gain admin...   \n",
       "2  An EOL version of an OS is not receiving any s...   \n",
       "3  An EOL version of an OS is not receiving any s...   \n",
       "4                                                NaN   \n",
       "\n",
       "                                            Solution Affected Software/OS  \\\n",
       "0                      Ask the Vendor for an update.                  NaN   \n",
       "1                      Ask the Vendor for an update.                  NaN   \n",
       "2  Upgrade the OS on the remote host to a version...                  NaN   \n",
       "3  Upgrade the OS on the remote host to a version...                  NaN   \n",
       "4  Disable the 'No Auth' access mode. Please cont...                  NaN   \n",
       "\n",
       "                               Vulnerability Insight  \\\n",
       "0  The remote IPMI service accepted a session ope...   \n",
       "1  The remote IPMI service accepted a session ope...   \n",
       "2                                                NaN   \n",
       "3                                                NaN   \n",
       "4                                                NaN   \n",
       "\n",
       "                      Vulnerability Detection Method  \\\n",
       "0  Sends a request with a zero cipher and checks ...   \n",
       "1  Sends a request with a zero cipher and checks ...   \n",
       "2  Checks if an EOL version of an OS is present o...   \n",
       "3  Checks if an EOL version of an OS is present o...   \n",
       "4  Evaluates information gathered by the VT 'Inte...   \n",
       "\n",
       "                            Product Detection Result  \n",
       "0                                                NaN  \n",
       "1                                                NaN  \n",
       "2  Product: cpe:/o:canonical:ubuntu_linux:12.04\\n...  \n",
       "3  Product: cpe:/o:canonical:ubuntu_linux:12.04\\n...  \n",
       "4                                                NaN  "
      ]
     },
     "execution_count": 74,
     "metadata": {},
     "output_type": "execute_result"
    }
   ],
   "source": [
    "docs = data[[\n",
    "    'Port', 'Port Protocol', 'CVSS', 'Severity', 'QoD', 'Solution Type', 'NVT Name', 'Summary', 'Specific Result', 'NVT OID',\n",
    "    'CVEs', 'Impact', 'Solution', 'Affected Software/OS', 'Vulnerability Insight', 'Vulnerability Detection Method', 'Product Detection Result',\n",
    "    ]]\n",
    "docs.head()"
   ]
  },
  {
   "cell_type": "code",
   "execution_count": 89,
   "metadata": {},
   "outputs": [],
   "source": [
    "from langchain_community.document_loaders import DataFrameLoader\n",
    "\n",
    "loader = DataFrameLoader(docs, page_content_column='Summary')\n",
    "documents = loader.load()"
   ]
  },
  {
   "cell_type": "code",
   "execution_count": 90,
   "metadata": {},
   "outputs": [
    {
     "data": {
      "text/plain": [
       "Document(metadata={'Port': 22.0, 'Port Protocol': 'tcp', 'CVSS': 5.3, 'Severity': 'Medium', 'QoD': 80, 'Solution Type': 'Mitigation', 'NVT Name': 'Weak Key Exchange (KEX) Algorithm(s) Supported (SSH)', 'Specific Result': 'The remote SSH server supports the following weak KEX algorithm(s):\\n\\nKEX algorithm                      | Reason\\n-------------------------------------------------------------------------------------------\\ndiffie-hellman-group-exchange-sha1 | Using SHA-1\\ndiffie-hellman-group1-sha1         | Using Oakley Group 2 (a 1024-bit MODP group) and SHA-1\\n', 'NVT OID': '1.3.6.1.4.1.25623.1.0.150713', 'CVEs': nan, 'Impact': 'An attacker can quickly break individual connections.', 'Solution': 'Disable the reported weak KEX algorithm(s)\\n\\n  - 1024-bit MODP group / prime KEX algorithms:\\n\\n  Alternatively use elliptic-curve Diffie-Hellmann in general, e.g. Curve 25519.', 'Affected Software/OS': nan, 'Vulnerability Insight': '- 1024-bit MODP group / prime KEX algorithms:\\n\\n  Millions of HTTPS, SSH, and VPN servers all use the same prime numbers for Diffie-Hellman key\\n  exchange. Practitioners believed this was safe as long as new key exchange messages were generated\\n  for every connection. However, the first step in the number field sieve-the most efficient\\n  algorithm for breaking a Diffie-Hellman connection-is dependent only on this prime.\\n\\n  A nation-state can break a 1024-bit prime.', 'Vulnerability Detection Method': 'Checks the supported KEX algorithms of the remote SSH server.\\n\\n  Currently weak KEX algorithms are defined as the following:\\n\\n  - non-elliptic-curve Diffie-Hellmann (DH) KEX algorithms with 1024-bit MODP group / prime\\n\\n  - ephemerally generated key exchange groups uses SHA-1\\n\\n  - using RSA 1024-bit modulus key\\nDetails:\\nWeak Key Exchange (KEX) Algorithm(s) Supported (SSH)\\n(OID: 1.3.6.1.4.1.25623.1.0.150713)\\nVersion used: 2023-10-12T05:05:32Z\\n', 'Product Detection Result': nan}, page_content='The remote SSH server is configured to allow / support weak key\\n  exchange (KEX) algorithm(s).')"
      ]
     },
     "execution_count": 90,
     "metadata": {},
     "output_type": "execute_result"
    }
   ],
   "source": [
    "documents[99]"
   ]
  },
  {
   "cell_type": "code",
   "execution_count": 91,
   "metadata": {},
   "outputs": [
    {
     "data": {
      "text/plain": [
       "'The remote SSH server is configured to allow / support weak key\\n  exchange (KEX) algorithm(s).'"
      ]
     },
     "execution_count": 91,
     "metadata": {},
     "output_type": "execute_result"
    }
   ],
   "source": [
    "documents[99].page_content"
   ]
  },
  {
   "cell_type": "code",
   "execution_count": 96,
   "metadata": {},
   "outputs": [
    {
     "data": {
      "text/plain": [
       "{'Port': 22.0,\n",
       " 'Port Protocol': 'tcp',\n",
       " 'CVSS': 4.3,\n",
       " 'Severity': 'Medium',\n",
       " 'QoD': 80,\n",
       " 'Solution Type': 'Mitigation',\n",
       " 'NVT Name': 'Weak Encryption Algorithm(s) Supported (SSH)',\n",
       " 'Specific Result': 'The remote SSH server supports the following weak client-to-server encryption algorithm(s):\\n\\n3des-cbc\\naes128-cbc\\naes192-cbc\\naes256-cbc\\narcfour\\narcfour128\\narcfour256\\nblowfish-cbc\\ncast128-cbc\\nrijndael-cbc@lysator.liu.se\\n\\n\\nThe remote SSH server supports the following weak server-to-client encryption algorithm(s):\\n\\n3des-cbc\\naes128-cbc\\naes192-cbc\\naes256-cbc\\narcfour\\narcfour128\\narcfour256\\nblowfish-cbc\\ncast128-cbc\\nrijndael-cbc@lysator.liu.se\\n',\n",
       " 'NVT OID': '1.3.6.1.4.1.25623.1.0.105611',\n",
       " 'CVEs': nan,\n",
       " 'Impact': nan,\n",
       " 'Solution': 'Disable the reported weak encryption algorithm(s).',\n",
       " 'Affected Software/OS': nan,\n",
       " 'Vulnerability Insight': \"- The 'arcfour' cipher is the Arcfour stream cipher with 128-bit\\n  keys. The Arcfour cipher is believed to be compatible with the RC4 cipher [SCHNEIER]. Arcfour\\n  (and RC4) has problems with weak keys, and should not be used anymore.\\n\\n  - The 'none' algorithm specifies that no encryption is to be done. Note that this method provides\\n  no confidentiality protection, and it is NOT RECOMMENDED to use it.\\n\\n  - A vulnerability exists in SSH messages that employ CBC mode that may allow an attacker to\\n  recover plaintext from a block of ciphertext.\",\n",
       " 'Vulnerability Detection Method': \"Checks the supported encryption algorithms (client-to-server\\n  and server-to-client) of the remote SSH server.\\n\\n  Currently weak encryption algorithms are defined as the following:\\n\\n  - Arcfour (RC4) cipher based algorithms\\n\\n  - 'none' algorithm\\n\\n  - CBC mode cipher based algorithms\\nDetails:\\nWeak Encryption Algorithm(s) Supported (SSH)\\n(OID: 1.3.6.1.4.1.25623.1.0.105611)\\nVersion used: 2023-10-12T05:05:32Z\\n\",\n",
       " 'Product Detection Result': nan}"
      ]
     },
     "execution_count": 96,
     "metadata": {},
     "output_type": "execute_result"
    }
   ],
   "source": [
    "documents[231].metadata"
   ]
  },
  {
   "cell_type": "code",
   "execution_count": 98,
   "metadata": {},
   "outputs": [],
   "source": [
    "from langchain_community.vectorstores import Qdrant\n",
    "from langchain_openai import OpenAIEmbeddings\n",
    "embeddings = OpenAIEmbeddings(model=\"text-embedding-3-small\")\n",
    "\n",
    "qdrant = Qdrant.from_documents(\n",
    "    documents = documents, \n",
    "    embedding = embeddings,\n",
    "    location = \":memory:\",\n",
    "    collection_name = \"chatbot\"\n",
    "\n",
    "\n",
    ")"
   ]
  },
  {
   "cell_type": "code",
   "execution_count": 109,
   "metadata": {},
   "outputs": [
    {
     "data": {
      "text/plain": [
       "[Document(metadata={'Port': 8000.0, 'Port Protocol': 'tcp', 'CVSS': 7.8, 'Severity': 'High', 'QoD': 70, 'Solution Type': 'NoneAvailable', 'NVT Name': 'Squid Multiple 0-Day Vulnerabilities (Oct 2023)', 'Specific Result': 'Installed version: 3.1.19\\nFixed version:     None\\nInstallation\\npath / port:       8000/tcp\\n\\n', 'NVT OID': '1.3.6.1.4.1.25623.1.0.100439', 'CVEs': nan, 'Impact': nan, 'Solution': 'No known solution is available as of 22th April, 2024.\\n  Information regarding this issue will be updated once solution details are available.', 'Affected Software/OS': 'As of 10/2023 the situation about affected versions is\\n  largely unclear (The security researcher only stated that all vulnerabilities were discovered\\n  in squid-5.0.5 and the vendor only published a few advisories so far).\\n\\n  Due to this unclear situation all Squid versions are currently assumed to be vulnerable by the not\\n  yet fixed flaws.', 'Vulnerability Insight': \"The following flaws have been reported in 2021 to the vendor and\\n  seems to be not fixed yet:\\n\\n  - Memory Leak in ESI Error Processing\\n\\n  - One-Byte Buffer OverRead in HTTP Request Header Parsing\\n\\n  - strlen(NULL) Crash Using Digest Authentication GHSA-254c-93q9-cp53\\n\\n  - Assertion in ESI Header Handling\\n\\n  - Gopher Assertion Crash\\n\\n  - Whois Assertion Crash\\n\\n  - RFC 2141 / 2169 (URN) Assertion Crash\\n\\n  - Assertion in Negotiate/NTLM Authentication Using Pipeline Prefetching\\n\\n  - Assertion on IPv6 Host Requests with --disable-ipv6\\n\\n  - Assertion Crash on Unexpected 'HTTP/1.1 100 Continue' Response Header\\n\\n  - Pipeline Prefetch Assertion With Double 'Expect:100-continue' Request Headers\\n\\n  - Pipeline Prefetch Assertion With Invalid Headers\\n\\n  - Assertion Crash in Deferred Requests\\n\\n  - Assertion in Digest Authentication\\n\\n  - FTP Authentication Crash\\n\\n  - Assertion Crash In HTTP Response Headers Handling\\n\\n  - Implicit Assertion in Stream Handling\\n\\n  - Use-After-Free in ESI 'Try' (and 'Choose') Processing\\n\\n  - Use-After-Free in ESI Expression Evaluation\\n\\n  - Buffer Underflow in ESI GHSA-wgvf-q977-9xjg\\n\\n  - Assertion Due to 0 ESI 'when' Checking GHSA-4g88-277m-q89r\\n\\n  - Assertion Using ESI's When Directive GHSA-4g88-277m-q89r\\n\\n  - Assertion in ESI Variable Assignment (String)\\n\\n  - Assertion in ESI Variable Assignment\\n\\n  - Null Pointer Dereference In ESI's esi:include and esi:when\\n\\n  Note: Various GHSA advisories have been provided by the security researcher but are not published\\n  / available yet.\", 'Vulnerability Detection Method': 'Checks if a vulnerable version is present on the target host.\\nDetails:\\nSquid Multiple 0-Day Vulnerabilities (Oct 2023)\\n(OID: 1.3.6.1.4.1.25623.1.0.100439)\\nVersion used: 2024-04-23T05:05:27Z\\n', 'Product Detection Result': 'Product: cpe:/a:squid-cache:squid:3.1.19\\nMethod: Squid Detection (HTTP)\\n(OID: 1.3.6.1.4.1.25623.1.0.900611)\\n', '_id': '971413098fb142c7a8e552984390b159', '_collection_name': 'chatbot'}, page_content='Squid is prone to multiple zero-day (0-day) vulnerabilities.'),\n",
       " Document(metadata={'Port': 3128.0, 'Port Protocol': 'tcp', 'CVSS': 7.8, 'Severity': 'High', 'QoD': 70, 'Solution Type': 'NoneAvailable', 'NVT Name': 'Squid Multiple 0-Day Vulnerabilities (Oct 2023)', 'Specific Result': 'Installed version: 3.1.19\\nFixed version:     None\\nInstallation\\npath / port:       3128/tcp\\n\\n', 'NVT OID': '1.3.6.1.4.1.25623.1.0.100439', 'CVEs': nan, 'Impact': nan, 'Solution': 'No known solution is available as of 22th April, 2024.\\n  Information regarding this issue will be updated once solution details are available.', 'Affected Software/OS': 'As of 10/2023 the situation about affected versions is\\n  largely unclear (The security researcher only stated that all vulnerabilities were discovered\\n  in squid-5.0.5 and the vendor only published a few advisories so far).\\n\\n  Due to this unclear situation all Squid versions are currently assumed to be vulnerable by the not\\n  yet fixed flaws.', 'Vulnerability Insight': \"The following flaws have been reported in 2021 to the vendor and\\n  seems to be not fixed yet:\\n\\n  - Memory Leak in ESI Error Processing\\n\\n  - One-Byte Buffer OverRead in HTTP Request Header Parsing\\n\\n  - strlen(NULL) Crash Using Digest Authentication GHSA-254c-93q9-cp53\\n\\n  - Assertion in ESI Header Handling\\n\\n  - Gopher Assertion Crash\\n\\n  - Whois Assertion Crash\\n\\n  - RFC 2141 / 2169 (URN) Assertion Crash\\n\\n  - Assertion in Negotiate/NTLM Authentication Using Pipeline Prefetching\\n\\n  - Assertion on IPv6 Host Requests with --disable-ipv6\\n\\n  - Assertion Crash on Unexpected 'HTTP/1.1 100 Continue' Response Header\\n\\n  - Pipeline Prefetch Assertion With Double 'Expect:100-continue' Request Headers\\n\\n  - Pipeline Prefetch Assertion With Invalid Headers\\n\\n  - Assertion Crash in Deferred Requests\\n\\n  - Assertion in Digest Authentication\\n\\n  - FTP Authentication Crash\\n\\n  - Assertion Crash In HTTP Response Headers Handling\\n\\n  - Implicit Assertion in Stream Handling\\n\\n  - Use-After-Free in ESI 'Try' (and 'Choose') Processing\\n\\n  - Use-After-Free in ESI Expression Evaluation\\n\\n  - Buffer Underflow in ESI GHSA-wgvf-q977-9xjg\\n\\n  - Assertion Due to 0 ESI 'when' Checking GHSA-4g88-277m-q89r\\n\\n  - Assertion Using ESI's When Directive GHSA-4g88-277m-q89r\\n\\n  - Assertion in ESI Variable Assignment (String)\\n\\n  - Assertion in ESI Variable Assignment\\n\\n  - Null Pointer Dereference In ESI's esi:include and esi:when\\n\\n  Note: Various GHSA advisories have been provided by the security researcher but are not published\\n  / available yet.\", 'Vulnerability Detection Method': 'Checks if a vulnerable version is present on the target host.\\nDetails:\\nSquid Multiple 0-Day Vulnerabilities (Oct 2023)\\n(OID: 1.3.6.1.4.1.25623.1.0.100439)\\nVersion used: 2024-04-23T05:05:27Z\\n', 'Product Detection Result': 'Product: cpe:/a:squid-cache:squid:3.1.19\\nMethod: Squid Detection (HTTP)\\n(OID: 1.3.6.1.4.1.25623.1.0.900611)\\n', '_id': 'a4aca53f04bc4bc5ba7aa4affc76b872', '_collection_name': 'chatbot'}, page_content='Squid is prone to multiple zero-day (0-day) vulnerabilities.'),\n",
       " Document(metadata={'Port': 3128.0, 'Port Protocol': 'tcp', 'CVSS': 7.8, 'Severity': 'High', 'QoD': 70, 'Solution Type': 'NoneAvailable', 'NVT Name': 'Squid Multiple 0-Day Vulnerabilities (Oct 2023)', 'Specific Result': 'Installed version: 3.1.19\\nFixed version:     None\\nInstallation\\npath / port:       3128/tcp\\n\\n', 'NVT OID': '1.3.6.1.4.1.25623.1.0.100439', 'CVEs': nan, 'Impact': nan, 'Solution': 'No known solution is available as of 22th April, 2024.\\n  Information regarding this issue will be updated once solution details are available.', 'Affected Software/OS': 'As of 10/2023 the situation about affected versions is\\n  largely unclear (The security researcher only stated that all vulnerabilities were discovered\\n  in squid-5.0.5 and the vendor only published a few advisories so far).\\n\\n  Due to this unclear situation all Squid versions are currently assumed to be vulnerable by the not\\n  yet fixed flaws.', 'Vulnerability Insight': \"The following flaws have been reported in 2021 to the vendor and\\n  seems to be not fixed yet:\\n\\n  - Memory Leak in ESI Error Processing\\n\\n  - One-Byte Buffer OverRead in HTTP Request Header Parsing\\n\\n  - strlen(NULL) Crash Using Digest Authentication GHSA-254c-93q9-cp53\\n\\n  - Assertion in ESI Header Handling\\n\\n  - Gopher Assertion Crash\\n\\n  - Whois Assertion Crash\\n\\n  - RFC 2141 / 2169 (URN) Assertion Crash\\n\\n  - Assertion in Negotiate/NTLM Authentication Using Pipeline Prefetching\\n\\n  - Assertion on IPv6 Host Requests with --disable-ipv6\\n\\n  - Assertion Crash on Unexpected 'HTTP/1.1 100 Continue' Response Header\\n\\n  - Pipeline Prefetch Assertion With Double 'Expect:100-continue' Request Headers\\n\\n  - Pipeline Prefetch Assertion With Invalid Headers\\n\\n  - Assertion Crash in Deferred Requests\\n\\n  - Assertion in Digest Authentication\\n\\n  - FTP Authentication Crash\\n\\n  - Assertion Crash In HTTP Response Headers Handling\\n\\n  - Implicit Assertion in Stream Handling\\n\\n  - Use-After-Free in ESI 'Try' (and 'Choose') Processing\\n\\n  - Use-After-Free in ESI Expression Evaluation\\n\\n  - Buffer Underflow in ESI GHSA-wgvf-q977-9xjg\\n\\n  - Assertion Due to 0 ESI 'when' Checking GHSA-4g88-277m-q89r\\n\\n  - Assertion Using ESI's When Directive GHSA-4g88-277m-q89r\\n\\n  - Assertion in ESI Variable Assignment (String)\\n\\n  - Assertion in ESI Variable Assignment\\n\\n  - Null Pointer Dereference In ESI's esi:include and esi:when\\n\\n  Note: Various GHSA advisories have been provided by the security researcher but are not published\\n  / available yet.\", 'Vulnerability Detection Method': 'Checks if a vulnerable version is present on the target host.\\nDetails:\\nSquid Multiple 0-Day Vulnerabilities (Oct 2023)\\n(OID: 1.3.6.1.4.1.25623.1.0.100439)\\nVersion used: 2024-04-23T05:05:27Z\\n', 'Product Detection Result': 'Product: cpe:/a:squid-cache:squid:3.1.19\\nMethod: Squid Detection (HTTP)\\n(OID: 1.3.6.1.4.1.25623.1.0.900611)\\n', '_id': '41ccbf8311f140fdb1af660bd7022608', '_collection_name': 'chatbot'}, page_content='Squid is prone to multiple zero-day (0-day) vulnerabilities.'),\n",
       " Document(metadata={'Port': 80.0, 'Port Protocol': 'tcp', 'CVSS': 7.5, 'Severity': 'High', 'QoD': 70, 'Solution Type': 'VendorFix', 'NVT Name': 'WordPress WPML Plugin < 3.1.9.1 Multiple Vulnerabilities', 'Specific Result': 'Vulnerable URL: http://150.164.203.16/wp-admin/admin.php?page=sitepress-multilingual-cms/menu/languages.php&icl_action=reminder_popup&target=javascript:alert(document.cookie);//\\n', 'NVT OID': '1.3.6.1.4.1.25623.1.0.805153', 'CVEs': 'CVE-2015-2314,CVE-2015-2315', 'Impact': 'Successful exploitation will allow remote attackers to inject or\\n  manipulate SQL queries in the back-end database, allowing for the manipulation or disclosure of\\n  arbitrary data and delete practically all content of the website - posts, pages, and menus.', 'Solution': 'Update to version 3.1.9.1 or later.', 'Affected Software/OS': 'WordPress WPML plugin versions prior to 3.1.9.1.', 'Vulnerability Insight': \"Multiple flaws are due to:\\n\\n  - An improper validation of parsed language code when a HTTP POST request containing the parameter\\n  'action=wp-link-ajax'.\\n\\n  - Lack of access control over menu a 'menu sync' function.\\n\\n  - The 'reminder popup' code intended for administrators in WPML did not check for login status or\\n  nonce.\\n\\n  - The problem is the mixed use of mixed $_REQUEST and $_GET.\", 'Vulnerability Detection Method': 'Sends a crafted HTTP GET request and checks the response.\\nDetails:\\nWordPress WPML Plugin < 3.1.9.1 Multiple Vulnerabilities\\n(OID: 1.3.6.1.4.1.25623.1.0.805153)\\nVersion used: 2023-10-27T05:05:28Z\\n', 'Product Detection Result': nan, '_id': '69b1eb1b0bc24bf5848e887e9b52bb38', '_collection_name': 'chatbot'}, page_content=\"The WordPress plugin 'WPML' is prone to multiple\\n  vulnerabilities.\"),\n",
       " Document(metadata={'Port': 623.0, 'Port Protocol': 'udp', 'CVSS': 10.0, 'Severity': 'High', 'QoD': 99, 'Solution Type': 'VendorFix', 'NVT Name': 'IPMI Cipher Zero Authentication Bypass Vulnerability (IPMI Protocol)', 'Specific Result': 'The remote IPMI service accepted a session open request for cipher zero.\\n', 'NVT OID': '1.3.6.1.4.1.25623.1.0.103840', 'CVEs': nan, 'Impact': 'Attackers can exploit this issue to gain administrative access to\\n  the device and disclose sensitive information.', 'Solution': 'Ask the Vendor for an update.', 'Affected Software/OS': nan, 'Vulnerability Insight': 'The remote IPMI service accepted a session open request for\\n  cipher zero.', 'Vulnerability Detection Method': 'Sends a request with a zero cipher and checks if this request\\n  was accepted.\\nDetails:\\nIPMI Cipher Zero Authentication Bypass Vulnerability (IPMI Protocol)\\n(OID: 1.3.6.1.4.1.25623.1.0.103840)\\nVersion used: 2024-03-21T05:06:54Z\\n', 'Product Detection Result': nan, '_id': 'dbf6f9052dca42cdbd35d77d4b4fae58', '_collection_name': 'chatbot'}, page_content='Intelligent Platform Management Interface (IPMI) services are\\n  prone to an authentication bypass vulnerability.'),\n",
       " Document(metadata={'Port': 623.0, 'Port Protocol': 'udp', 'CVSS': 10.0, 'Severity': 'High', 'QoD': 99, 'Solution Type': 'VendorFix', 'NVT Name': 'IPMI Cipher Zero Authentication Bypass Vulnerability (IPMI Protocol)', 'Specific Result': 'The remote IPMI service accepted a session open request for cipher zero.\\n', 'NVT OID': '1.3.6.1.4.1.25623.1.0.103840', 'CVEs': nan, 'Impact': 'Attackers can exploit this issue to gain administrative access to\\n  the device and disclose sensitive information.', 'Solution': 'Ask the Vendor for an update.', 'Affected Software/OS': nan, 'Vulnerability Insight': 'The remote IPMI service accepted a session open request for\\n  cipher zero.', 'Vulnerability Detection Method': 'Sends a request with a zero cipher and checks if this request\\n  was accepted.\\nDetails:\\nIPMI Cipher Zero Authentication Bypass Vulnerability (IPMI Protocol)\\n(OID: 1.3.6.1.4.1.25623.1.0.103840)\\nVersion used: 2024-03-21T05:06:54Z\\n', 'Product Detection Result': nan, '_id': '72949527d9214c5cb0a422d844f9ec9c', '_collection_name': 'chatbot'}, page_content='Intelligent Platform Management Interface (IPMI) services are\\n  prone to an authentication bypass vulnerability.'),\n",
       " Document(metadata={'Port': 623.0, 'Port Protocol': 'udp', 'CVSS': 10.0, 'Severity': 'High', 'QoD': 99, 'Solution Type': 'VendorFix', 'NVT Name': 'IPMI Cipher Zero Authentication Bypass Vulnerability (IPMI Protocol)', 'Specific Result': 'The remote IPMI service accepted a session open request for cipher zero.\\n', 'NVT OID': '1.3.6.1.4.1.25623.1.0.103840', 'CVEs': nan, 'Impact': 'Attackers can exploit this issue to gain administrative access to\\n  the device and disclose sensitive information.', 'Solution': 'Ask the Vendor for an update.', 'Affected Software/OS': nan, 'Vulnerability Insight': 'The remote IPMI service accepted a session open request for\\n  cipher zero.', 'Vulnerability Detection Method': 'Sends a request with a zero cipher and checks if this request\\n  was accepted.\\nDetails:\\nIPMI Cipher Zero Authentication Bypass Vulnerability (IPMI Protocol)\\n(OID: 1.3.6.1.4.1.25623.1.0.103840)\\nVersion used: 2024-03-21T05:06:54Z\\n', 'Product Detection Result': nan, '_id': '03a526a40f294f43b26c5b7a8563bafc', '_collection_name': 'chatbot'}, page_content='Intelligent Platform Management Interface (IPMI) services are\\n  prone to an authentication bypass vulnerability.'),\n",
       " Document(metadata={'Port': 623.0, 'Port Protocol': 'udp', 'CVSS': 10.0, 'Severity': 'High', 'QoD': 99, 'Solution Type': 'VendorFix', 'NVT Name': 'IPMI Cipher Zero Authentication Bypass Vulnerability (IPMI Protocol)', 'Specific Result': 'The remote IPMI service accepted a session open request for cipher zero.\\n', 'NVT OID': '1.3.6.1.4.1.25623.1.0.103840', 'CVEs': nan, 'Impact': 'Attackers can exploit this issue to gain administrative access to\\n  the device and disclose sensitive information.', 'Solution': 'Ask the Vendor for an update.', 'Affected Software/OS': nan, 'Vulnerability Insight': 'The remote IPMI service accepted a session open request for\\n  cipher zero.', 'Vulnerability Detection Method': 'Sends a request with a zero cipher and checks if this request\\n  was accepted.\\nDetails:\\nIPMI Cipher Zero Authentication Bypass Vulnerability (IPMI Protocol)\\n(OID: 1.3.6.1.4.1.25623.1.0.103840)\\nVersion used: 2024-03-21T05:06:54Z\\n', 'Product Detection Result': nan, '_id': '010a79ef96b342a7800e80eff769a9d7', '_collection_name': 'chatbot'}, page_content='Intelligent Platform Management Interface (IPMI) services are\\n  prone to an authentication bypass vulnerability.'),\n",
       " Document(metadata={'Port': 33060.0, 'Port Protocol': 'tcp', 'CVSS': 0.0, 'Severity': 'Log', 'QoD': 80, 'Solution Type': 'Workaround', 'NVT Name': 'Database Open Access Information Disclosure Vulnerability', 'Specific Result': 'MariaDB can be accessed by remote attackers\\n', 'NVT OID': '1.3.6.1.4.1.25623.1.0.902799', 'CVEs': nan, 'Impact': 'Successful exploitation could allow an attacker to obtain\\n  sensitive information from the database.', 'Solution': 'Restrict database access to remote systems. Please see the\\n  manual of the affected database server for more information.', 'Affected Software/OS': '- Oracle MySQL\\n\\n  - MariaDB\\n\\n  - IBM DB2\\n\\n  - PostgreSQL\\n\\n  - IBM solidDB\\n\\n  - Oracle Database\\n\\n  - Microsoft SQL Server', 'Vulnerability Insight': 'The remote database server is not restricting direct access from\\n  remote systems.', 'Vulnerability Detection Method': 'Checks the result of various database server detections and\\n  evaluates their results.\\nDetails:\\nDatabase Open Access Information Disclosure Vulnerability\\n(OID: 1.3.6.1.4.1.25623.1.0.902799)\\nVersion used: 2023-01-12T10:12:15Z\\n', 'Product Detection Result': nan, '_id': 'db4d7a227f8b4897a4bf1134cbe04657', '_collection_name': 'chatbot'}, page_content='Various Database server might be prone to an information\\n  disclosure vulnerability if accessible to remote systems.'),\n",
       " Document(metadata={'Port': 3306.0, 'Port Protocol': 'tcp', 'CVSS': 0.0, 'Severity': 'Log', 'QoD': 80, 'Solution Type': 'Workaround', 'NVT Name': 'Database Open Access Information Disclosure Vulnerability', 'Specific Result': 'MariaDB can be accessed by remote attackers\\n', 'NVT OID': '1.3.6.1.4.1.25623.1.0.902799', 'CVEs': nan, 'Impact': 'Successful exploitation could allow an attacker to obtain\\n  sensitive information from the database.', 'Solution': 'Restrict database access to remote systems. Please see the\\n  manual of the affected database server for more information.', 'Affected Software/OS': '- Oracle MySQL\\n\\n  - MariaDB\\n\\n  - IBM DB2\\n\\n  - PostgreSQL\\n\\n  - IBM solidDB\\n\\n  - Oracle Database\\n\\n  - Microsoft SQL Server', 'Vulnerability Insight': 'The remote database server is not restricting direct access from\\n  remote systems.', 'Vulnerability Detection Method': 'Checks the result of various database server detections and\\n  evaluates their results.\\nDetails:\\nDatabase Open Access Information Disclosure Vulnerability\\n(OID: 1.3.6.1.4.1.25623.1.0.902799)\\nVersion used: 2023-01-12T10:12:15Z\\n', 'Product Detection Result': nan, '_id': '2399f4bd804548b684c28a6085daafd7', '_collection_name': 'chatbot'}, page_content='Various Database server might be prone to an information\\n  disclosure vulnerability if accessible to remote systems.')]"
      ]
     },
     "execution_count": 109,
     "metadata": {},
     "output_type": "execute_result"
    }
   ],
   "source": [
    "query = \"Quais são as principais vulnerabilidades criticas com o CVSS maior ou igual a 7.5 encontradas no relatório? E suas soluções?\"\n",
    "\n",
    "qdrant.similarity_search(query, k=10)\n"
   ]
  },
  {
   "cell_type": "code",
   "execution_count": 113,
   "metadata": {},
   "outputs": [],
   "source": [
    "def custom_prompt(query: str):\n",
    "    results = qdrant.similarity_search(query, k=10)\n",
    "    source_knowledge = \"\\n\".join(x.page_content for x in results)\n",
    "    augmented_prompt = f\"\"\"\n",
    "        Use o contexto abaixo para responder à seguinte pergunta:\n",
    "\n",
    "        Contexto: {source_knowledge}\n",
    "\n",
    "        Pergunta: {query}\n",
    "\n",
    "        Boa prática: não forneça o endereço IP ou nome do host do sistema nas respostas\n",
    "\n",
    "        Seja claro nas respostas e forneça informações relevantes para ajudar o usuário a entender o conteúdo. Lembre-se de que o objetivo é ajudar a interpretar relatórios do OpenVAS e identificar vulnerabilidades críticas.\n",
    "\n",
    "        Os usuários podem ter diferentes níveis de conhecimento em segurança cibernética, então tente explicar os conceitos de forma simples e objetiva.\n",
    "    \"\"\"\n",
    "    return augmented_prompt"
   ]
  },
  {
   "cell_type": "code",
   "execution_count": 114,
   "metadata": {},
   "outputs": [
    {
     "name": "stdout",
     "output_type": "stream",
     "text": [
      "\n",
      "        Use o contexto abaixo para responder à seguinte pergunta:\n",
      "\n",
      "        Contexto: Squid is prone to multiple zero-day (0-day) vulnerabilities.\n",
      "Squid is prone to multiple zero-day (0-day) vulnerabilities.\n",
      "Squid is prone to multiple zero-day (0-day) vulnerabilities.\n",
      "The WordPress plugin 'WPML' is prone to multiple\n",
      "  vulnerabilities.\n",
      "Intelligent Platform Management Interface (IPMI) services are\n",
      "  prone to an authentication bypass vulnerability.\n",
      "Intelligent Platform Management Interface (IPMI) services are\n",
      "  prone to an authentication bypass vulnerability.\n",
      "Intelligent Platform Management Interface (IPMI) services are\n",
      "  prone to an authentication bypass vulnerability.\n",
      "Intelligent Platform Management Interface (IPMI) services are\n",
      "  prone to an authentication bypass vulnerability.\n",
      "Various Database server might be prone to an information\n",
      "  disclosure vulnerability if accessible to remote systems.\n",
      "Various Database server might be prone to an information\n",
      "  disclosure vulnerability if accessible to remote systems.\n",
      "\n",
      "        Pergunta: Quais são as principais vulnerabilidades criticas com o CVSS maior ou igual a 7.5 encontradas no relatório? E suas soluções?\n",
      "\n",
      "        Boa prática: não forneça o endereço IP ou nome do host do sistema nas respostas\n",
      "\n",
      "        Seja claro nas respostas e forneça informações relevantes para ajudar o usuário a entender o conteúdo. Lembre-se de que o objetivo é ajudar a interpretar relatórios do OpenVAS e identificar vulnerabilidades críticas.\n",
      "\n",
      "        Os usuários podem ter diferentes níveis de conhecimento em segurança cibernética, então tente explicar os conceitos de forma simples e objetiva.\n",
      "    \n"
     ]
    }
   ],
   "source": [
    "print(custom_prompt(query))"
   ]
  },
  {
   "cell_type": "code",
   "execution_count": 115,
   "metadata": {},
   "outputs": [
    {
     "name": "stdout",
     "output_type": "stream",
     "text": [
      "Com base no contexto fornecido, as principais vulnerabilidades críticas mencionadas que podem ter um CVSS maior ou igual a 7.5 são:\n",
      "\n",
      "1. **Vulnerabilidades no Squid**:\n",
      "   - O Squid é mencionado como vulnerável a múltiplas vulnerabilidades zero-day. Zero-day refere-se a falhas de segurança que são desconhecidas para os desenvolvedores e, portanto, não têm correção disponível. Essas vulnerabilidades podem ser altamente críticas, pois podem ser exploradas por atacantes antes que uma solução seja lançada.\n",
      "   - **Solução**: A mitigação imediata envolve atualizar para a versão mais recente do Squid assim que as correções forem disponibilizadas. Se não for possível atualizar imediatamente, considere limitar o acesso ao Squid e monitorar logs para detectar atividades suspeitas.\n",
      "\n",
      "2. **Vulnerabilidade de Bypass de Autenticação no IPMI**:\n",
      "   - O Intelligent Platform Management Interface (IPMI) é suscetível a uma vulnerabilidade que permite o bypass de autenticação. Isso significa que um atacante pode conseguir acesso não autorizado ao sistema, o que pode levar a compromissos graves de segurança.\n",
      "   - **Solução**: Para mitigar essa vulnerabilidade, é crucial aplicar patches ou atualizações que abordem essa falha. Além disso, recomenda-se restringir o acesso ao IPMI a redes seguras e implementar controles de firewall para limitar o acesso.\n",
      "\n",
      "3. **Vulnerabilidades em Plugins do WordPress (WPML)**:\n",
      "   - O plugin WPML do WordPress está suscetível a várias vulnerabilidades. Embora não tenha sido especificado o CVSS, plugins populares muitas vezes contêm falhas críticas.\n",
      "   - **Solução**: Atualize o plugin WPML para a versão mais recente assim que disponível. Além disso, audite outros plugins e temas do WordPress, garantindo que todos estejam atualizados e que você esteja utilizando apenas plugins de fontes confiáveis.\n",
      "\n",
      "4. **Vulnerabilidades em Servidores de Banco de Dados**:\n",
      "   - Servidores de banco de dados que estão acessíveis a sistemas remotos podem estar sujeitos a vulnerabilidades de divulgação de informações. Isso pode permitir que um atacante extraia dados sensíveis do banco de dados.\n",
      "   - **Solução**: Restrinja o acesso aos servidores de banco de dados apenas a endereços IP confiáveis e utilize criptografia para proteger os dados. Realize auditorias regulares para identificar e corrigir configurações inseguras.\n",
      "\n",
      "### Resumo das Soluções:\n",
      "- **Atualização**: Mantenha todos os softwares e plugins atualizados.\n",
      "- **Restrição de Acesso**: Use firewalls e controle de acesso para limitar quem pode acessar serviços críticos.\n",
      "- **Monitoramento**: Monitore logs e atividades para identificar comportamentos anômalos.\n",
      "- **Auditorias**: Realize auditorias regulares de segurança para identificar potenciais vulnerabilidades.\n",
      "\n",
      "Essas práticas ajudarão a mitigar os riscos associados a essas vulnerabilidades críticas.\n"
     ]
    }
   ],
   "source": [
    "prompt = HumanMessage(content=custom_prompt(query))\n",
    "\n",
    "messages.append(prompt)\n",
    "\n",
    "res = chat.invoke(messages)\n",
    "\n",
    "print(res.content)"
   ]
  },
  {
   "cell_type": "code",
   "execution_count": 116,
   "metadata": {},
   "outputs": [],
   "source": [
    "teste = pd.read_csv('data/teste.csv')"
   ]
  },
  {
   "cell_type": "code",
   "execution_count": 119,
   "metadata": {},
   "outputs": [],
   "source": [
    "prompt_teste = teste.to_string(index=False)"
   ]
  },
  {
   "cell_type": "code",
   "execution_count": 120,
   "metadata": {},
   "outputs": [
    {
     "name": "stdout",
     "output_type": "stream",
     "text": [
      "Com base nas informações do relatório do OpenVAS que você forneceu, identificamos uma vulnerabilidade no servidor Apache HTTP relacionada ao endpoint `/server-status`. A vulnerabilidade é classificada com uma pontuação CVSS de 5.3, o que indica um risco médio.\n",
      "\n",
      "### Vulnerabilidade Identificada:\n",
      "- **Nome:** Apache HTTP Server /server-status Accessible\n",
      "- **CVSS Severity:** 5.3 (Média)\n",
      "- **Descrição:** O endpoint `/server-status` fornece informações sobre a atividade e o desempenho do servidor, o que pode ser explorado por um atacante.\n",
      "\n",
      "### Recomendações de Mitigação:\n",
      "\n",
      "1. **Desativar o Endpoint (Se Não Utilizado)**:\n",
      "   - Se a funcionalidade de status do servidor não for necessária, recomenda-se desativá-la. Para isso, você deve localizar a configuração correspondente no arquivo de configuração do Apache (geralmente em `httpd.conf` ou em arquivos de configuração incluídos) e comentar a linha que habilita o módulo `mod_status`.\n",
      "\n",
      "   Exemplo:\n",
      "   ```apache\n",
      "   # LoadModule status_module modules/mod_status.so\n",
      "   ```\n",
      "\n",
      "2. **Restringir o Acesso (Se Utilizado)**:\n",
      "   - Se você precisar da funcionalidade de status, restrinja o acesso ao endpoint apenas a clientes confiáveis. Isso pode ser feito usando regras de controle de acesso. Por exemplo:\n",
      "   ```apache\n",
      "   <Location /server-status>\n",
      "       SetHandler server-status\n",
      "       Require ip 192.168.0.0/24  # Permite acesso apenas a esta rede\n",
      "   </Location>\n",
      "   ```\n",
      "\n",
      "3. **Atualizar Software**:\n",
      "   - Caso esteja utilizando o FreedomBox ou outra versão do Apache que possa estar vulnerável, verifique se há atualizações disponíveis e aplique-as. Manter o software atualizado é uma boa prática de segurança.\n",
      "\n",
      "### Ações Imediatas:\n",
      "- Acesse o servidor onde o Apache está instalado.\n",
      "- Realize as mudanças nas configurações conforme as recomendações acima.\n",
      "- Reinicie o servidor Apache para que as alterações tenham efeito:\n",
      "   ```bash\n",
      "   sudo systemctl restart apache2\n",
      "   ```\n",
      "\n",
      "### Considerações Finais:\n",
      "- Monitorar o acesso ao endpoint `/server-status` e revisar os logs do servidor pode ajudar a identificar tentativas de exploração.\n",
      "- Considere realizar uma nova varredura com o OpenVAS ou outra ferramenta de segurança após aplicar as correções para garantir que a vulnerabilidade foi mitigada adequadamente.\n",
      "\n",
      "Seguir essas diretrizes ajudará a resolver os problemas identificados no relatório e a melhorar a segurança do seu servidor Apache.\n"
     ]
    }
   ],
   "source": [
    "prompt = HumanMessage(content=f\"\"\"\n",
    "    Use o contexto abaixo para responder à seguinte pergunta:\n",
    "                         \n",
    "    Contexto: {prompt_teste}\n",
    "\n",
    "    Pergunta: Me ajude a resolver os problemas encontrados nesse relatório.\n",
    "\"\"\")\n",
    "\n",
    "messages.append(prompt)\n",
    "\n",
    "res = chat.invoke(messages)\n",
    "\n",
    "print(res.content)"
   ]
  }
 ],
 "metadata": {
  "kernelspec": {
   "display_name": ".venv",
   "language": "python",
   "name": "python3"
  },
  "language_info": {
   "codemirror_mode": {
    "name": "ipython",
    "version": 3
   },
   "file_extension": ".py",
   "mimetype": "text/x-python",
   "name": "python",
   "nbconvert_exporter": "python",
   "pygments_lexer": "ipython3",
   "version": "3.12.8"
  }
 },
 "nbformat": 4,
 "nbformat_minor": 2
}
